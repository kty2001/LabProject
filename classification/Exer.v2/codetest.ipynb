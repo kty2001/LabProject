{
 "cells": [
  {
   "cell_type": "code",
   "execution_count": 1,
   "metadata": {},
   "outputs": [],
   "source": [
    "import os\n",
    "import random\n",
    "import glob\n",
    "\n",
    "from pathlib import Path\n",
    "from PIL import Image\n",
    "from torch.utils.data import Dataset\n",
    "import torch\n",
    "\n",
    "import pandas as pd\n",
    "import numpy as np"
   ]
  },
  {
   "cell_type": "code",
   "execution_count": 2,
   "metadata": {},
   "outputs": [],
   "source": [
    "import requests\n",
    "from bs4 import BeautifulSoup\n",
    "import urllib"
   ]
  },
  {
   "cell_type": "code",
   "execution_count": 3,
   "metadata": {},
   "outputs": [
    {
     "name": "stdout",
     "output_type": "stream",
     "text": [
      "21\n",
      "Error downloading image 1: unknown url type: '/images/branding/searchlogo/1x/googlelogo_desk_heirloom_color_150x55dp.gif'\n",
      "Downloaded image 2/50\n",
      "Downloaded image 3/50\n",
      "Downloaded image 4/50\n",
      "Downloaded image 5/50\n",
      "Downloaded image 6/50\n",
      "Downloaded image 7/50\n",
      "Downloaded image 8/50\n",
      "Downloaded image 9/50\n",
      "Downloaded image 10/50\n",
      "Downloaded image 11/50\n",
      "Downloaded image 12/50\n",
      "Downloaded image 13/50\n",
      "Downloaded image 14/50\n",
      "Downloaded image 15/50\n",
      "Downloaded image 16/50\n",
      "Downloaded image 17/50\n",
      "Downloaded image 18/50\n",
      "Downloaded image 19/50\n",
      "Downloaded image 20/50\n",
      "Downloaded image 21/50\n",
      "Image download completed.\n"
     ]
    }
   ],
   "source": [
    "search_word = \"벤치프레스\"  # 검색어 설정\n",
    "num_images = 50  # 가져올 이미지 수 설정\n",
    "\n",
    "# Google 이미지 검색 결과 페이지 URL\n",
    "url = f\"https://www.google.com/search?tbm=isch&q={search_word}\"\n",
    "\n",
    "# requests를 사용하여 페이지에 접속\n",
    "response = requests.get(url)\n",
    "\n",
    "# BeautifulSoup을 사용하여 HTML 파싱\n",
    "soup = BeautifulSoup(response.text, 'html.parser')\n",
    "\n",
    "# 이미지 링크 추출\n",
    "image_links = []\n",
    "for img in soup.find_all('img'):\n",
    "    if 'src' in img.attrs:\n",
    "        image_links.append(img.attrs['src'])\n",
    "\n",
    "print(len(image_links))\n",
    "# 이미지 다운로드\n",
    "for i, img_link in enumerate(image_links[:num_images]):\n",
    "    try:\n",
    "        # 이미지 다운로드 및 저장\n",
    "        urllib.request.urlretrieve(img_link, f\"{search_word}_{i}.jpg\")\n",
    "        print(f\"Downloaded image {i+1}/{num_images}\")\n",
    "    except Exception as e:\n",
    "        print(f\"Error downloading image {i+1}: {e}\")\n",
    "\n",
    "print(\"Image download completed.\")"
   ]
  },
  {
   "cell_type": "code",
   "execution_count": 5,
   "metadata": {},
   "outputs": [
    {
     "name": "stdout",
     "output_type": "stream",
     "text": [
      "Error downloading image 1: unknown url type: '/images/branding/searchlogo/1x/googlelogo_desk_heirloom_color_150x55dp.gif'\n",
      "Downloaded image 2/21\n",
      "Downloaded image 3/21\n",
      "Downloaded image 4/21\n",
      "Downloaded image 5/21\n",
      "Downloaded image 6/21\n",
      "Downloaded image 7/21\n",
      "Downloaded image 8/21\n",
      "Downloaded image 9/21\n",
      "Downloaded image 10/21\n",
      "Downloaded image 11/21\n",
      "Downloaded image 12/21\n",
      "Downloaded image 13/21\n",
      "Downloaded image 14/21\n",
      "Downloaded image 15/21\n",
      "Downloaded image 16/21\n",
      "Downloaded image 17/21\n",
      "Downloaded image 18/21\n",
      "Downloaded image 19/21\n",
      "Downloaded image 20/21\n",
      "Downloaded image 21/21\n"
     ]
    }
   ],
   "source": [
    "import requests\n",
    "from bs4 import BeautifulSoup\n",
    "import urllib\n",
    "\n",
    "def fetch_image_urls(search_term, num_images):\n",
    "    url = f\"https://www.google.com/search?tbm=isch&q={search_term}\"\n",
    "    response = requests.get(url)\n",
    "    soup = BeautifulSoup(response.text, 'html.parser')\n",
    "    img_tags = soup.find_all('img', limit=num_images)\n",
    "    img_urls = [img['src'] for img in img_tags if img.get('src')]\n",
    "    return img_urls\n",
    "\n",
    "def download_images(img_urls, output_dir):\n",
    "    for i, img_url in enumerate(img_urls):\n",
    "        try:\n",
    "            urllib.request.urlretrieve(img_url, f\"{output_dir}/image_{i}.jpg\")\n",
    "            print(f\"Downloaded image {i+1}/{len(img_urls)}\")\n",
    "        except Exception as e:\n",
    "            print(f\"Error downloading image {i+1}: {e}\")\n",
    "\n",
    "search_term = \"your_search_term\"\n",
    "num_images = 30\n",
    "output_dir = \"images\"\n",
    "\n",
    "img_urls = fetch_image_urls(search_term, num_images)\n",
    "download_images(img_urls, output_dir)"
   ]
  },
  {
   "cell_type": "code",
   "execution_count": 2,
   "metadata": {},
   "outputs": [],
   "source": [
    "import os\n",
    "import random\n",
    "import glob\n",
    "\n",
    "from pathlib import Path\n",
    "from PIL import Image\n",
    "\n",
    "from torch.utils.data import Dataset\n",
    "import torchvision\n",
    "from torchvision import transforms\n",
    "import torch\n",
    "\n",
    "import numpy as np"
   ]
  },
  {
   "cell_type": "code",
   "execution_count": 8,
   "metadata": {},
   "outputs": [
    {
     "name": "stdout",
     "output_type": "stream",
     "text": [
      "./images/train/풀업/3.jpg 0\n",
      "torch.Size([140, 88, 3]) 0\n",
      "torch.Size([3, 140, 88]) tensor([0])\n"
     ]
    }
   ],
   "source": [
    "data_dir = \"./images/train\"\n",
    "classes = os.listdir(data_dir)     # 리스트로 저장\n",
    "\n",
    "# 데이터 클래스 레이블링\n",
    "classes_dic = {}\n",
    "for label, cls in enumerate(classes):\n",
    "    classes_dic[cls] = label       # classes에 저장된 순서로 레이블 매김\n",
    "\n",
    "# 데이터 불러오기\n",
    "data = glob.glob(os.path.join(data_dir + '/*/*.jpg'))  # 모든 이미지 경로 저장\n",
    "\n",
    "\n",
    "transform = transforms.Compose([\n",
    "    transforms.Resize((224, 224)),\n",
    "    transforms.Normalize((0.5, 0.5, 0.5), (0.5, 0.5, 0.5))\n",
    "])\n",
    "index = 0\n",
    "image = data[index]                            # index에 맞는 이미지 가져오기\n",
    "label = classes_dic[Path(image).parts[-2]]     # 이미지 디렉토리명의 레이블 저장\n",
    "print(image, label)\n",
    "\n",
    "image = Image.open(image)               # 이미지 PIL로 열기\n",
    "image = np.array(image)                 # 이미지 numpy 배열로 변환\n",
    "\n",
    "image = torch.FloatTensor(image)        # 이미지 float형 텐서로 변환\n",
    "print(image.shape, label)\n",
    "image = image.permute(2, 0, 1)\n",
    "label = torch.LongTensor([int(label)])  # 레이블 long형 텐서로 변환\n",
    "print(image.shape, label)"
   ]
  },
  {
   "cell_type": "code",
   "execution_count": null,
   "metadata": {},
   "outputs": [],
   "source": []
  }
 ],
 "metadata": {
  "kernelspec": {
   "display_name": "HnV",
   "language": "python",
   "name": "python3"
  },
  "language_info": {
   "codemirror_mode": {
    "name": "ipython",
    "version": 3
   },
   "file_extension": ".py",
   "mimetype": "text/x-python",
   "name": "python",
   "nbconvert_exporter": "python",
   "pygments_lexer": "ipython3",
   "version": "3.11.0"
  }
 },
 "nbformat": 4,
 "nbformat_minor": 2
}
