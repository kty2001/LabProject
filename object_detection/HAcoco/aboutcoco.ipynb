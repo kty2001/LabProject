{
 "cells": [
  {
   "cell_type": "markdown",
   "metadata": {},
   "source": [
    "## COCO란\n",
    "##### - 객체 인식 및 객체 검출 등의 컴퓨터 비전 작업을 위한 대규모 데이터셋 중 하나\n",
    "##### - Microsoft에서 개발되었으며, 현실적인 상황에서 다양한 객체의 이미지를 수집하여 라벨링한 것으로 유명"
   ]
  },
  {
   "cell_type": "markdown",
   "metadata": {},
   "source": [
    "## COCO 데이터셋 주요 특징\n",
    "##### - 다양한 객체 클래스\n",
    "##### - 복잡한 이미지\n",
    "##### - 다양한 작업 지원\n",
    "##### - 대규모 데이터"
   ]
  },
  {
   "cell_type": "markdown",
   "metadata": {},
   "source": [
    "## COCO 포맷 구조: Object Detection 기준\n",
    "##### - images: 각 이미지에 대한 정보 포함\n",
    "- id(int): 이미지의 고유 식별자\n",
    "- width(int): 이미지의 너비\n",
    "- height(int): 이미지의 높이\n",
    "- file_name(str): 이미지 파일의 경로 또는 이름\n",
    "- license(int): 특허\n",
    "- coco_url(str): 주소\n",
    "- data_captured(datetime): 시간\n",
    "##### - annotations: 각 객체에 대한 주석 정보 포함\n",
    "- id(int): 객체 주석의 고유 식별자\n",
    "- image_id(int): 해당 객체가 속한 이미지의 id\n",
    "- category_id(int): 객체의 카테고리 id\n",
    "- bbox([x, y, width, height]): 객체의 바운딩 박스 좌표\n",
    "- segmentation([polygon] or RLE): 분할 방식\n",
    "- area(float): w * h\n",
    "- iscrowd(0 or 1): 단일 객체 주석 또는 군중 객체 주석\n",
    "##### - categories: 각 객체 카테고리에 대한 정보 포함\n",
    "- id(int): 이미지의 고유 식별자\n",
    "- name(str): 객체 카테고리의 이름\n",
    "- supercategory(str): 객체 카테고리의 상위 카테고리"
   ]
  }
 ],
 "metadata": {
  "language_info": {
   "name": "python"
  }
 },
 "nbformat": 4,
 "nbformat_minor": 2
}
