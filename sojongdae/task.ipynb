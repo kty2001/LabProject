{
 "cells": [
  {
   "cell_type": "code",
   "execution_count": 34,
   "metadata": {},
   "outputs": [],
   "source": [
    "import torch\n",
    "import json\n",
    "import numpy as np\n",
    "import math\n",
    "import cv2"
   ]
  },
  {
   "cell_type": "code",
   "execution_count": 35,
   "metadata": {},
   "outputs": [
    {
     "name": "stdout",
     "output_type": "stream",
     "text": [
      "True\n"
     ]
    }
   ],
   "source": [
    "# cuda 연결 확인 코드\n",
    "import torch\n",
    "print(torch.cuda.is_available())"
   ]
  },
  {
   "cell_type": "code",
   "execution_count": 36,
   "metadata": {},
   "outputs": [],
   "source": [
    "def cal_2d_distance(x1, y1, x2, y2):\n",
    "    x = x2 - x1\n",
    "    y = y2 - y1\n",
    "    return math.sqrt(x**2 + y**2)\n",
    "\n",
    "def cal_3d_distance(p1, p2):\n",
    "    x1, y1, z1 = p1\n",
    "    x2, y2, z2 = p2\n",
    "    \n",
    "    x = x2 - x1\n",
    "    y = y2 - y1\n",
    "    z = z2 - z1\n",
    "    return math.sqrt(x**2 + y**2 + z**2)"
   ]
  },
  {
   "cell_type": "code",
   "execution_count": 37,
   "metadata": {},
   "outputs": [
    {
     "name": "stdout",
     "output_type": "stream",
     "text": [
      "data type: <class 'list'>\n",
      "data len: 129\n",
      "data[0] type: <class 'dict'>\n",
      "data[0] keys: ['image_id', 'category_id', 'keypoints', 'score', 'box', 'idx']\n",
      "data[0]['keypoints'] type: <class 'list'>\n",
      "data[0]['keypoints'] len: 78\n"
     ]
    }
   ],
   "source": [
    "file_path = 'AlphaPose/examples/results/alphapose_unnormal.json'\n",
    "\n",
    "with open(file_path, \"r\") as f:\n",
    "    alpha_data = json.load(f)\n",
    "\n",
    "print(\"data type:\", type(alpha_data))\n",
    "print(\"data len:\", len(alpha_data))\n",
    "print(\"data[0] type:\", type(alpha_data[0]))\n",
    "print(\"data[0] keys:\", list(alpha_data[0].keys()))\n",
    "print(\"data[0]['keypoints'] type:\", type(alpha_data[0]['keypoints']))\n",
    "print(\"data[0]['keypoints'] len:\", len(alpha_data[0]['keypoints']))"
   ]
  },
  {
   "cell_type": "code",
   "execution_count": 38,
   "metadata": {},
   "outputs": [
    {
     "name": "stdout",
     "output_type": "stream",
     "text": [
      "0.jpg value------------------------------------------------------------\n",
      "Nose [0, 2] : [388.397705078125, 123.46035766601562, 0.9358507394790649]\n",
      "LEye [3, 5] : [411.47442626953125, 100.38365936279297, 0.9522897601127625]\n",
      "REye [6, 8] : [365.3210144042969, 88.84530639648438, 0.9155483245849609]\n",
      "LEar [9, 11] : [446.0894775390625, 123.46035766601562, 0.9784330725669861]\n",
      "REar [12, 14] : [330.7059631347656, 123.46035766601562, 0.9481452107429504]\n",
      "LShoulder [15, 17] : [515.319580078125, 238.84385681152344, 0.9357389807701111]\n",
      "RShoulder [18, 20] : [284.55255126953125, 296.5356140136719, 0.9144362807273865]\n",
      "LElbow [21, 23] : [549.9346313476562, 423.45745849609375, 0.8902885317802429]\n",
      "RElbow [24, 26] : [284.55255126953125, 481.14923095703125, 0.9281059503555298]\n",
      "LWrist [27, 29] : [549.9346313476562, 573.4560546875, 0.9491968154907227]\n",
      "RWrist [30, 32] : [284.55255126953125, 642.6861572265625, 0.9031567573547363]\n",
      "LHip [33, 35] : [480.70452880859375, 608.071044921875, 0.9180561900138855]\n",
      "RHip [36, 38] : [353.78265380859375, 608.071044921875, 0.9124704599380493]\n",
      "LKnee [39, 41] : [469.1661682128906, 861.914794921875, 0.9714823365211487]\n",
      "Rknee [42, 44] : [353.78265380859375, 873.453125, 0.9243184328079224]\n",
      "LAnkle [45, 47] : [457.6278076171875, 1092.6817626953125, 0.9367550015449524]\n",
      "RAnkle [48, 50] : [342.24432373046875, 1092.6817626953125, 0.9406970739364624]\n",
      "Head [51, 53] : [399.9360656738281, 42.6919059753418, 0.9560260772705078]\n",
      "Neck [54, 56] : [388.397705078125, 215.7671661376953, 0.9637556076049805]\n",
      "Hip [57, 59] : [423.01275634765625, 596.53271484375, 0.9562031626701355]\n",
      "LBigToe [60, 62] : [480.70452880859375, 1161.911865234375, 0.9662033915519714]\n",
      "RBigToe [63, 65] : [330.7059631347656, 1161.911865234375, 0.9286798238754272]\n",
      "LSmallToe [66, 68] : [515.319580078125, 1150.37353515625, 0.9771462082862854]\n",
      "RSmallToe [69, 71] : [296.0909118652344, 1150.37353515625, 0.8749874234199524]\n",
      "LHeel [72, 74] : [446.0894775390625, 1115.758544921875, 0.88167405128479]\n",
      "RHeel [75, 77] : [353.78265380859375, 1104.2200927734375, 0.8627625703811646]\n"
     ]
    }
   ],
   "source": [
    "k = ['Nose', 'LEye', 'REye', 'LEar', 'REar', 'LShoulder', 'RShoulder', 'LElbow', 'RElbow', 'LWrist', 'RWrist',\n",
    "     'LHip', 'RHip', 'LKnee', 'Rknee', 'LAnkle', 'RAnkle', 'Head', 'Neck', 'Hip', 'LBigToe', 'RBigToe', 'LSmallToe', 'RSmallToe', 'LHeel', 'RHeel']\n",
    "ex = alpha_data[10]['keypoints']\n",
    "print(\"0.jpg value------------------------------------------------------------\")\n",
    "for i in range(26*3):\n",
    "    if i % 3 == 0: print(k[i//3], [i, i+2], \":\", ex[i+0:i+3])"
   ]
  },
  {
   "cell_type": "code",
   "execution_count": 39,
   "metadata": {},
   "outputs": [
    {
     "name": "stdout",
     "output_type": "stream",
     "text": [
      "\n",
      "-------------골반 기울기-------------\n",
      "rad: -0.09066019046792476 / abs rad: 0.09066019046792476\n",
      "deg: -5.194446283664264 / abs_deg: 5.194446283664264\n",
      "\n",
      "-------------어깨 기울기-------------\n",
      "rad: -0.24497866312686414 / abs rad: 0.24497866312686414\n",
      "deg: -14.036243467926477 / abs_deg: 14.036243467926477\n"
     ]
    }
   ],
   "source": [
    "# 골반 기울기 검사\n",
    "print(\"\\n-------------골반 기울기-------------\")\n",
    "fframe = 0 # 전면 이미지 or 프레임\n",
    "val = alpha_data[fframe]['keypoints']\n",
    "l_hip = val[33:35]\n",
    "r_hip = val[36:38]\n",
    "hip_rad = math.atan2(l_hip[1] - r_hip[1], l_hip[0] - r_hip[0])\n",
    "hip_deg = (hip_rad*180)/math.pi\n",
    "print(\"rad:\", hip_rad, \"/ abs rad:\", abs(hip_rad))\n",
    "print(\"deg:\", hip_deg, \"/ abs_deg:\", abs(hip_deg))\n",
    "\n",
    "# 어깨 기울기 검사\n",
    "print(\"\\n-------------어깨 기울기-------------\")\n",
    "fframe = 10 # 전면 이미지 or 프레임\n",
    "val = alpha_data[fframe]['keypoints']\n",
    "l_shoulder = val[15:17]\n",
    "r_shoulder = val[18:20]\n",
    "shoulder_rad = math.atan2(l_shoulder[1] - r_shoulder[1], l_shoulder[0] - r_shoulder[0])\n",
    "shoulder_deg = (shoulder_rad*180)/math.pi\n",
    "print(\"rad:\", shoulder_rad, \"/ abs rad:\", abs(shoulder_rad))\n",
    "print(\"deg:\", shoulder_deg, \"/ abs_deg:\", abs(shoulder_deg))"
   ]
  },
  {
   "cell_type": "code",
   "execution_count": 40,
   "metadata": {},
   "outputs": [
    {
     "name": "stdout",
     "output_type": "stream",
     "text": [
      "data type: <class 'numpy.ndarray'>\n",
      "data shape: (129, 17, 3)\n"
     ]
    }
   ],
   "source": [
    "file_path = 'MotionBERT/examples/results/motionbert_unnormal.npy'\n",
    "motion_data = np.load(file_path)\n",
    "print(\"data type:\", type(motion_data))\n",
    "print(\"data shape:\", motion_data.shape) # (프레임 개수, 키포인트, (x,y,z) 좌표) "
   ]
  },
  {
   "cell_type": "code",
   "execution_count": 41,
   "metadata": {},
   "outputs": [
    {
     "name": "stdout",
     "output_type": "stream",
     "text": [
      "0 frame---------------------------------------\n",
      "0 - root : [0.03768173 0.05005858 0.        ]\n",
      "1 - RHip : [-0.1000087   0.08143686  0.00129454]\n",
      "2 - RKnee : [-0.08476543  0.5595484   0.11303172]\n",
      "3 - RAnkle : [-0.09197865  0.9423065   0.23928683]\n",
      "4 - LHip : [0.16553575 0.06564985 0.03721961]\n",
      "5 - LKnee : [0.1290741  0.5565841  0.12816444]\n",
      "6 - LAnkle : [0.10348095 0.94157517 0.24331982]\n",
      "7 - torso : [ 0.014557   -0.30375177 -0.05320794]\n",
      "8 - neck : [-0.02445125 -0.645584   -0.14199507]\n",
      "9 - nose : [-0.00713882 -0.8157228  -0.26700154]\n",
      "10 - head : [-0.01392266 -0.9944185  -0.24872652]\n",
      "11 - LShoulder : [ 0.21354595 -0.6147522  -0.10536033]\n",
      "12 - LElbow : [ 0.27860343 -0.27429682  0.06236859]\n",
      "13 - LWrist : [0.27588317 0.01656048 0.07011461]\n",
      "14 - RShoulder : [-0.21510932 -0.49337065 -0.11883163]\n",
      "15 - RElbow : [-0.20651954 -0.1483562   0.03170614]\n",
      "16 - RWrist : [-0.21250343  0.14715345  0.09092017]\n"
     ]
    }
   ],
   "source": [
    "k = ['root', 'RHip', 'RKnee', 'RAnkle', 'LHip', 'LKnee', 'LAnkle', 'torso', 'neck', 'nose', 'head', 'LShoulder', 'LElbow', 'LWrist', 'RShoulder', 'RElbow', 'RWrist']\n",
    "frame = 0\n",
    "print(frame, \"frame---------------------------------------\")\n",
    "for i, key in enumerate(motion_data[frame]):\n",
    "    print(i, \"-\", k[i], \":\", key)"
   ]
  },
  {
   "cell_type": "code",
   "execution_count": 42,
   "metadata": {},
   "outputs": [
    {
     "name": "stdout",
     "output_type": "stream",
     "text": [
      "\n",
      "---------------거북목---------------\n",
      "rad: -1.2737014458393237 / abs rad: 1.2737014458393237\n",
      "deg: -72.97771720630405 / abs_deg: 72.97771720630405\n",
      "\n",
      "-------------골반 기울기-------------\n",
      "rad: -0.05884672846882429 / abs rad: 0.05884672846882429\n",
      "deg: -3.371669179415981 / abs_deg: 3.371669179415981\n",
      "\n",
      "-------------어깨 기울기-------------\n",
      "rad: -0.27983190933826185 / abs rad: 0.27983190933826185\n",
      "deg: -16.03318737816989 / abs_deg: 16.03318737816989\n"
     ]
    }
   ],
   "source": [
    "# 거북목 증후군 검사\n",
    "print(\"\\n---------------거북목---------------\")\n",
    "frame = 10 # 우측면 이미지 or 프레임\n",
    "val = motion_data[frame]\n",
    "head = val[10]\n",
    "neck = val[8]\n",
    "tutle_xz = cal_2d_distance(head[0], head[2], neck[0], neck[2])\n",
    "turtle_rad_3d = math.atan2(head[1] - neck[1], tutle_xz)\n",
    "turtle_deg_3d = (turtle_rad_3d*180)/math.pi\n",
    "print(\"rad:\", turtle_rad_3d, \"/ abs rad:\", abs(turtle_rad_3d))\n",
    "print(\"deg:\", turtle_deg_3d, \"/ abs_deg:\", abs(turtle_deg_3d))\n",
    "\n",
    "# 골반 기울기 검사\n",
    "print(\"\\n-------------골반 기울기-------------\")\n",
    "fframe = 0 # 전면 이미지 or 프레임\n",
    "val = motion_data[fframe]\n",
    "l_hip = val[4]\n",
    "r_hip = val[1]\n",
    "hip_xz = cal_2d_distance(l_hip[0], l_hip[2], r_hip[0], r_hip[2])\n",
    "hip_rad_3d = math.atan2(l_hip[1] - r_hip[1], hip_xz)\n",
    "hep_deg_3d = (hip_rad_3d*180)/math.pi\n",
    "print(\"rad:\", hip_rad_3d, \"/ abs rad:\", abs(hip_rad_3d))\n",
    "print(\"deg:\", hep_deg_3d, \"/ abs_deg:\", abs(hep_deg_3d))\n",
    "\n",
    "# 어깨 기울기 검사\n",
    "print(\"\\n-------------어깨 기울기-------------\")\n",
    "fframe = 10 # 전면 이미지 or 프레임\n",
    "val = motion_data[fframe]\n",
    "l_shoulder = val[11]\n",
    "r_shoulder = val[14]\n",
    "shoulder_xz = cal_2d_distance(l_shoulder[0], l_shoulder[2], r_shoulder[0], r_shoulder[2])\n",
    "shoulder_rad_3d = math.atan2(l_shoulder[1] - r_shoulder[1], shoulder_xz)\n",
    "shoulder_deg_3d = (shoulder_rad_3d*180)/math.pi\n",
    "print(\"rad:\", shoulder_rad_3d, \"/ abs rad:\", abs(shoulder_rad_3d))\n",
    "print(\"deg:\", shoulder_deg_3d, \"/ abs_deg:\", abs(shoulder_deg_3d))"
   ]
  },
  {
   "cell_type": "code",
   "execution_count": 43,
   "metadata": {},
   "outputs": [
    {
     "name": "stdout",
     "output_type": "stream",
     "text": [
      "threshold: 25\n",
      "(129, 17, 3)\n",
      "middle_data\n",
      "(79, 17, 3)\n",
      "mean_data\n",
      "(17, 3)\n"
     ]
    }
   ],
   "source": [
    "copyed_data = motion_data.copy()\n",
    "data_len = len(copyed_data)\n",
    "threshold = int(data_len * 0.2)\n",
    "print(\"threshold:\", threshold)\n",
    "print(copyed_data.shape)\n",
    "middle_data = copyed_data[threshold:data_len-threshold]\n",
    "print(\"middle_data\")\n",
    "print(middle_data.shape)\n",
    "mean_data = np.mean(middle_data, axis=0)\n",
    "print(\"mean_data\")\n",
    "print(mean_data.shape)"
   ]
  },
  {
   "cell_type": "code",
   "execution_count": 44,
   "metadata": {},
   "outputs": [
    {
     "name": "stdout",
     "output_type": "stream",
     "text": [
      "\n",
      "---------------거북목---------------\n",
      "rad: -1.2474560551035576 / abs rad: 1.2474560551035576\n",
      "deg: -71.4739670854729 / abs_deg: 71.4739670854729\n",
      "\n",
      "-------------골반 기울기-------------\n",
      "rad: -0.04866046800162735 / abs rad: 0.04866046800162735\n",
      "deg: -2.7880394456246385 / abs_deg: 2.7880394456246385\n",
      "\n",
      "-------------어깨 기울기-------------\n",
      "rad: -0.26929184342668594 / abs rad: 0.26929184342668594\n",
      "deg: -15.429286085646885 / abs_deg: 15.429286085646885\n"
     ]
    }
   ],
   "source": [
    "# 거북목 증후군 검사\n",
    "print(\"\\n---------------거북목---------------\")\n",
    "head = mean_data[10]\n",
    "neck = mean_data[8]\n",
    "tutle_xz = cal_2d_distance(head[0], head[2], neck[0], neck[2])\n",
    "turtle_rad_3dm = math.atan2(head[1] - neck[1], tutle_xz)\n",
    "turtle_deg_3dm = (turtle_rad_3dm*180)/math.pi\n",
    "print(\"rad:\", turtle_rad_3dm, \"/ abs rad:\", abs(turtle_rad_3dm))\n",
    "print(\"deg:\", turtle_deg_3dm, \"/ abs_deg:\", abs(turtle_deg_3dm))\n",
    "\n",
    "# 골반 기울기 검사\n",
    "print(\"\\n-------------골반 기울기-------------\")\n",
    "l_hip = mean_data[4]\n",
    "r_hip = mean_data[1]\n",
    "hip_xz = cal_2d_distance(l_hip[0], l_hip[2], r_hip[0], r_hip[2])\n",
    "hip_rad_3dm = math.atan2(l_hip[1] - r_hip[1], hip_xz)\n",
    "hep_deg_3dm = (hip_rad_3dm*180)/math.pi\n",
    "print(\"rad:\", hip_rad_3dm, \"/ abs rad:\", abs(hip_rad_3dm))\n",
    "print(\"deg:\", hep_deg_3dm, \"/ abs_deg:\", abs(hep_deg_3dm))\n",
    "\n",
    "# 어깨 기울기 검사\n",
    "print(\"\\n-------------어깨 기울기-------------\")\n",
    "l_shoulder = mean_data[11]\n",
    "r_shoulder = mean_data[14]\n",
    "shoulder_xz = cal_2d_distance(l_shoulder[0], l_shoulder[2], r_shoulder[0], r_shoulder[2])\n",
    "shoulder_rad_3dm = math.atan2(l_shoulder[1] - r_shoulder[1], shoulder_xz)\n",
    "shoulder_deg_3dm = (shoulder_rad_3dm*180)/math.pi\n",
    "print(\"rad:\", shoulder_rad_3dm, \"/ abs rad:\", abs(shoulder_rad_3dm))\n",
    "print(\"deg:\", shoulder_deg_3dm, \"/ abs_deg:\", abs(shoulder_deg_3dm))"
   ]
  },
  {
   "cell_type": "code",
   "execution_count": 45,
   "metadata": {},
   "outputs": [],
   "source": [
    "def extract_frame(video_path, frame_number=0):\n",
    "    # 비디오 파일 열기\n",
    "    cap = cv2.VideoCapture(video_path)\n",
    "\n",
    "    # 파일이 열렸는지 확인\n",
    "    if not cap.isOpened():\n",
    "        print(\"Error: Could not open video.\")\n",
    "        return None\n",
    "\n",
    "    # 특정 프레임으로 이동\n",
    "    cap.set(cv2.CAP_PROP_POS_FRAMES, frame_number)\n",
    "\n",
    "    # 프레임 읽기\n",
    "    ret, frame = cap.read()\n",
    "    if not ret:\n",
    "        print(f\"Error: Could not read frame {frame_number}.\")\n",
    "        return None\n",
    "\n",
    "    # 비디오 파일 닫기\n",
    "    cap.release()\n",
    "\n",
    "    return frame"
   ]
  },
  {
   "cell_type": "code",
   "execution_count": 46,
   "metadata": {},
   "outputs": [
    {
     "name": "stdout",
     "output_type": "stream",
     "text": [
      "frame number: 64\n"
     ]
    },
    {
     "name": "stdout",
     "output_type": "stream",
     "text": [
      "Frame extracted and saved as visualexample/0.jpg.\n",
      "Frame extracted and saved as visualexample/1.jpg.\n",
      "Frame extracted and saved as visualexample/2.jpg.\n",
      "Frame extracted and saved as visualexample/3.jpg.\n"
     ]
    }
   ],
   "source": [
    "origin_path = 'AlphaPose/examples/video/unnormal.mp4'\n",
    "alpha_path = 'AlphaPose/examples/results/AlphaPose_unnormal.mp4'\n",
    "motion_path = 'MotionBERT/examples/results/motionbert_unnormal.mp4'\n",
    "mesh_path = 'MotionBERT/examples/results/motionbert_mesh_unnormal.mp4'\n",
    "path_list = [origin_path, alpha_path, motion_path, mesh_path]\n",
    "\n",
    "frame_number = len(motion_data) // 2  # middle frame of video\n",
    "print(\"frame number:\", frame_number)\n",
    "\n",
    "for i in range(len(path_list)):\n",
    "    frame = extract_frame(path_list[i], frame_number)\n",
    "\n",
    "    if frame is not None:\n",
    "        # 프레임을 이미지 파일로 저장\n",
    "        cv2.imwrite(f'visualexample/{i}.jpg', frame)\n",
    "        print(f\"Frame extracted and saved as visualexample/{i}.jpg.\")"
   ]
  },
  {
   "cell_type": "code",
   "execution_count": 72,
   "metadata": {},
   "outputs": [],
   "source": [
    "def draw_keypoints_and_angle(image_path):\n",
    "    # 이미지를 읽음\n",
    "    image = cv2.imread(image_path)\n",
    "\n",
    "    # 어깨 각도 그리기\n",
    "    height, width, _ = image.shape\n",
    "    start_point_horizontal = (0, int(alpha_frame[19]))\n",
    "    end_point_horizontal = (width, int(alpha_frame[19]))\n",
    "    cv2.line(image, start_point_horizontal, end_point_horizontal, (0, 0, 255), 2)\n",
    "    cv2.line(image, (int(alpha_frame[18]), int(alpha_frame[19])), (int(alpha_frame[15]), int(alpha_frame[16])), (0, 0, 255), 2)\n",
    "    \n",
    "    angle_text = f\"degree: {abs(shoulder_rad*180)/math.pi:.2f}\"\n",
    "    text_position = (int(alpha_frame[18]) + 10, int(alpha_frame[19]) + 25)\n",
    "    cv2.putText(image, angle_text, text_position, cv2.FONT_HERSHEY_SIMPLEX, 1, (255, 255, 255), 2)\n",
    "\n",
    "    # 골반 각도 그리기\n",
    "    height, width, _ = image.shape\n",
    "    start_point_horizontal = (0, int(alpha_frame[37]))\n",
    "    end_point_horizontal = (width, int(alpha_frame[37]))\n",
    "    cv2.line(image, start_point_horizontal, end_point_horizontal, (0, 0, 255), 2)\n",
    "    cv2.line(image, (int(alpha_frame[36]), int(alpha_frame[37])), (int(alpha_frame[33]), int(alpha_frame[34])), (0, 0, 255), 2)\n",
    "    \n",
    "    angle_text = f\"degree: {abs(hip_rad*180)/math.pi:.2f}\"\n",
    "    text_position = (int(alpha_frame[36]) + 10, int(alpha_frame[37]) + 25)\n",
    "    cv2.putText(image, angle_text, text_position, cv2.FONT_HERSHEY_SIMPLEX, 1, (255, 255, 255), 2)\n",
    "\n",
    "    cv2.imwrite('visualexample/4.jpg', image)\n",
    "\n",
    "image_path = f'visualexample/1.jpg'\n",
    "alpha_frame = alpha_data[frame_number]['keypoints']\n",
    "\n",
    "\n",
    "draw_keypoints_and_angle(image_path)"
   ]
  },
  {
   "cell_type": "code",
   "execution_count": 73,
   "metadata": {},
   "outputs": [
    {
     "name": "stdout",
     "output_type": "stream",
     "text": [
      "Done!\n"
     ]
    }
   ],
   "source": [
    "def resize_and_concatenate(images):\n",
    "    # 첫 번째 이미지의 크기를 기준으로 삼기\n",
    "    base_image = cv2.imread(images[0])\n",
    "    base_height, base_width = base_image.shape[:2]\n",
    "\n",
    "    resized_images = []\n",
    "    \n",
    "    for image_path in images:\n",
    "        # 이미지 읽기\n",
    "        image = cv2.imread(image_path)\n",
    "        \n",
    "        # 이미지 리사이즈\n",
    "        resized_image = cv2.resize(image, (base_width, base_height))\n",
    "        resized_images.append(resized_image)\n",
    "    \n",
    "    # 이미지들을 일렬로 연결\n",
    "    concatenated_image = np.hstack(resized_images)\n",
    "    \n",
    "    return concatenated_image\n",
    "\n",
    "# 사용 예제\n",
    "image_paths = [\n",
    "    'visualexample/0.jpg',\n",
    "    'visualexample/4.jpg',\n",
    "    'visualexample/2.jpg',\n",
    "    'visualexample/3.jpg'\n",
    "]\n",
    "\n",
    "result_image = resize_and_concatenate(image_paths)\n",
    "\n",
    "# 결과 이미지 저장 및 표시\n",
    "output_path = 'visualexample/5.jpg'\n",
    "cv2.imwrite(output_path, result_image)\n",
    "print(\"Done!\")"
   ]
  },
  {
   "cell_type": "code",
   "execution_count": null,
   "metadata": {},
   "outputs": [],
   "source": []
  }
 ],
 "metadata": {
  "kernelspec": {
   "display_name": "sj",
   "language": "python",
   "name": "python3"
  },
  "language_info": {
   "codemirror_mode": {
    "name": "ipython",
    "version": 3
   },
   "file_extension": ".py",
   "mimetype": "text/x-python",
   "name": "python",
   "nbconvert_exporter": "python",
   "pygments_lexer": "ipython3",
   "version": "3.7.12"
  }
 },
 "nbformat": 4,
 "nbformat_minor": 2
}
