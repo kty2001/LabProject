{
 "cells": [
  {
   "cell_type": "code",
   "execution_count": 84,
   "metadata": {},
   "outputs": [],
   "source": [
    "import os\n",
    "import json\n",
    "import random\n",
    "import glob\n",
    "from pathlib import Path\n",
    "from ast import literal_eval\n",
    "\n",
    "from pycocotools.coco import COCO\n",
    "\n",
    "import matplotlib.pyplot as plt\n",
    "import matplotlib.patches as patches\n",
    "import matplotlib.patheffects as pe\n",
    "from PIL import Image\n",
    "\n",
    "import numpy as np\n",
    "import pandas as pd"
   ]
  },
  {
   "cell_type": "code",
   "execution_count": 211,
   "metadata": {},
   "outputs": [],
   "source": [
    "def visualize_image(img_annos, cate_dict, image_id, image):\n",
    "    \n",
    "    plt.imshow(image)   # 이미지 열기\n",
    "    ax = plt.gca()      # 그래프 축 가져오기\n",
    "\n",
    "    # 이미지에 박스 그리기\n",
    "    for img_anno in img_annos:\n",
    "        x1 = img_anno['bbox'][0]\n",
    "        y1 = img_anno['bbox'][1]\n",
    "        w = img_anno['bbox'][2]\n",
    "        h = img_anno['bbox'][3]\n",
    "\n",
    "        # 직사각형 객체 생성\n",
    "        rect = patches.Rectangle(\n",
    "            (x1, y1),           # 왼쪽 하단 모서리 좌표\n",
    "            w, h,               # 길이 및 높이\n",
    "            linewidth=1,        # 테두리 두께\n",
    "            edgecolor='green',  # 직사각형 테두리 색\n",
    "            facecolor='none'    # 직사각형 내부 색\n",
    "        )\n",
    "\n",
    "        # 축에 rect 추가\n",
    "        ax.add_patch(rect)\n",
    "        ax.text(\n",
    "            x1, y1,                 # 텍스트의 왼쪽 하단 모서리 좌표\n",
    "            cate_dict[img_anno['category_id']],            # 텍스트 내용\n",
    "            c='white',              # 텍스트 색상\n",
    "            size=5,                 # 텍스트 크기\n",
    "            path_effects=[pe.withStroke(linewidth=2, foreground='green')],  # 텍스트 효과\n",
    "            family='sans-serif',    # 텍스트 폰트\n",
    "            weight='semibold',      # 텍스트 굵기\n",
    "            va='top', ha='left',    # 텍스트 정렬\n",
    "            bbox=dict(              # 텍스트 주변 상자 설정\n",
    "                boxstyle='round',   # 둥근 모서리\n",
    "                ec='green',         # 테두리 색\n",
    "                fc='green',         # 내부 색\n",
    "            )\n",
    "        )\n",
    "    plt.axis('off')     # 축 제거\n",
    "    plt.savefig(os.path.join(\"./examples/\", f'{image_id}.jpg'), dpi=150, bbox_inches='tight', pad_inches=0)  # 이미지 파일 저장\n",
    "    print(f\"Work is Done & Save in examples/{image_id}.jpg\")\n",
    "    plt.clf()   # 활성된 figure 지우고 비우기"
   ]
  },
  {
   "cell_type": "code",
   "execution_count": 212,
   "metadata": {},
   "outputs": [],
   "source": [
    "def makecategorydict(categories):\n",
    "    cate_dict ={}\n",
    "    for category in categories:\n",
    "        cate_dict[category['id']] = category['name']\n",
    "\n",
    "    return cate_dict"
   ]
  },
  {
   "cell_type": "code",
   "execution_count": 216,
   "metadata": {},
   "outputs": [],
   "source": [
    "def image_open(img_ids, idx = 0):\n",
    "    img_id = str(img_ids[idx]).zfill(12)\n",
    "    image_path = os.path.join(\"./val2017/\" + f\"{img_id}.jpg\")\n",
    "\n",
    "    image = Image.open(image_path)\n",
    "\n",
    "    print(f\"idx: {idx}, img_id: {img_id}.jpg\")\n",
    "    image = plt.imread(image_path)\n",
    "    plt.axis('off')\n",
    "    plt.imshow(image)\n",
    "\n",
    "    return img_id, image"
   ]
  },
  {
   "cell_type": "code",
   "execution_count": 217,
   "metadata": {},
   "outputs": [
    {
     "name": "stdout",
     "output_type": "stream",
     "text": [
      "loading annotations into memory...\n",
      "Done (t=0.66s)\n",
      "creating index...\n",
      "index created!\n",
      "idx: 3317, img_id: 000000005600.jpg\n"
     ]
    },
    {
     "data": {
      "text/plain": [
       "<Figure size 640x480 with 0 Axes>"
      ]
     },
     "metadata": {},
     "output_type": "display_data"
    }
   ],
   "source": [
    "coco = COCO('./annotations/instances_val2017.json')\n",
    "\n",
    "img_ids = coco.getImgIds()\n",
    "idx = random.randint(0, len(img_ids))\n",
    "img_id, image = image_open(img_ids, idx)\n",
    "\n",
    "img_annotations = coco.getAnnIds(imgIds = img_ids[idx])\n",
    "img_annos = coco.loadAnns(img_annotations)\n",
    "\n",
    "cat_ids = coco.getCatIds()\n",
    "categories = coco.loadCats(cat_ids)\n",
    "cate_dict = makecategorydict(categories)\n",
    "\n",
    "visualize_image(img_annos, cate_dict, img_id, image)"
   ]
  },
  {
   "cell_type": "code",
   "execution_count": null,
   "metadata": {},
   "outputs": [],
   "source": []
  }
 ],
 "metadata": {
  "kernelspec": {
   "display_name": "HnV",
   "language": "python",
   "name": "python3"
  },
  "language_info": {
   "codemirror_mode": {
    "name": "ipython",
    "version": 3
   },
   "file_extension": ".py",
   "mimetype": "text/x-python",
   "name": "python",
   "nbconvert_exporter": "python",
   "pygments_lexer": "ipython3",
   "version": "3.11.0"
  }
 },
 "nbformat": 4,
 "nbformat_minor": 2
}
