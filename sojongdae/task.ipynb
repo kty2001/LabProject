{
 "cells": [
  {
   "cell_type": "code",
   "execution_count": 163,
   "metadata": {},
   "outputs": [],
   "source": [
    "import torch\n",
    "import json\n",
    "import numpy as np\n",
    "import math\n",
    "import cv2"
   ]
  },
  {
   "cell_type": "code",
   "execution_count": 164,
   "metadata": {},
   "outputs": [
    {
     "name": "stdout",
     "output_type": "stream",
     "text": [
      "True\n"
     ]
    }
   ],
   "source": [
    "# cuda 연결 확인 코드\n",
    "import torch\n",
    "print(torch.cuda.is_available())"
   ]
  },
  {
   "cell_type": "code",
   "execution_count": 165,
   "metadata": {},
   "outputs": [],
   "source": [
    "def cal_2d_distance(x1, y1, x2, y2):\n",
    "    x = x2 - x1\n",
    "    y = y2 - y1\n",
    "    return math.sqrt(x**2 + y**2)"
   ]
  },
  {
   "cell_type": "code",
   "execution_count": 166,
   "metadata": {},
   "outputs": [
    {
     "name": "stdout",
     "output_type": "stream",
     "text": [
      "0.jpg value------------------------------------------------------------\n",
      "Nose [0, 2] : [400.6236267089844, 123.55967712402344, 0.9381927847862244]\n",
      "LEye [3, 5] : [423.7188720703125, 100.46441650390625, 0.9561219811439514]\n",
      "REye [6, 8] : [365.9807434082031, 100.46441650390625, 0.9244382977485657]\n",
      "LEar [9, 11] : [446.81414794921875, 123.55967712402344, 0.9900296330451965]\n",
      "REar [12, 14] : [331.33782958984375, 123.55967712402344, 0.9638879895210266]\n",
      "LShoulder [15, 17] : [516.0999145507812, 239.03598022460938, 0.9357399344444275]\n",
      "RShoulder [18, 20] : [285.1473083496094, 296.7741394042969, 0.9177625775337219]\n",
      "LElbow [21, 23] : [550.7427978515625, 412.25042724609375, 0.9017195701599121]\n",
      "RElbow [24, 26] : [285.1473083496094, 481.5362243652344, 0.9295486807823181]\n",
      "LWrist [27, 29] : [550.7427978515625, 573.917236328125, 0.9487732648849487]\n",
      "RWrist [30, 32] : [285.1473083496094, 643.2030639648438, 0.8878740072250366]\n",
      "LHip [33, 35] : [481.45703125, 597.0125122070312, 0.9026874303817749]\n",
      "RHip [36, 38] : [354.43310546875, 608.5601806640625, 0.8919191956520081]\n",
      "LKnee [39, 41] : [469.9093933105469, 862.6080322265625, 0.9583037495613098]\n",
      "Rknee [42, 44] : [354.43310546875, 862.6080322265625, 0.9262024760246277]\n",
      "LAnkle [45, 47] : [458.3617858886719, 1093.5606689453125, 0.941990077495575]\n",
      "RAnkle [48, 50] : [354.43310546875, 1093.5606689453125, 0.92522132396698]\n",
      "Head [51, 53] : [389.07598876953125, 42.72626876831055, 0.9582903385162354]\n",
      "Neck [54, 56] : [389.07598876953125, 215.9407196044922, 0.9627954959869385]\n",
      "Hip [57, 59] : [423.7188720703125, 585.4649047851562, 0.9500188827514648]\n",
      "LBigToe [60, 62] : [469.9093933105469, 1162.846435546875, 0.9259526133537292]\n",
      "RBigToe [63, 65] : [331.33782958984375, 1162.846435546875, 0.9233976602554321]\n",
      "LSmallToe [66, 68] : [504.55230712890625, 1151.298828125, 0.9437851309776306]\n",
      "RSmallToe [69, 71] : [296.6949462890625, 1151.298828125, 0.8765153884887695]\n",
      "LHeel [72, 74] : [446.81414794921875, 1116.6558837890625, 0.8752434849739075]\n",
      "RHeel [75, 77] : [365.9807434082031, 1105.1082763671875, 0.8889489769935608]\n"
     ]
    }
   ],
   "source": [
    "with open('AlphaPose/examples/results/alphapose_unnormal.json', \"r\") as f:\n",
    "    alpha_data = json.load(f)\n",
    "\n",
    "k = ['Nose', 'LEye', 'REye', 'LEar', 'REar', 'LShoulder', 'RShoulder', 'LElbow', 'RElbow', 'LWrist', 'RWrist',\n",
    "'LHip', 'RHip', 'LKnee', 'Rknee', 'LAnkle', 'RAnkle', 'Head', 'Neck', 'Hip', 'LBigToe', 'RBigToe', 'LSmallToe', 'RSmallToe', 'LHeel', 'RHeel']\n",
    "ex = alpha_data[0]['keypoints']\n",
    "print(\"0.jpg value------------------------------------------------------------\")\n",
    "for i in range(26*3):\n",
    "    if i % 3 == 0: print(k[i//3], [i, i+2], \":\", ex[i+0:i+3])"
   ]
  },
  {
   "cell_type": "code",
   "execution_count": 167,
   "metadata": {},
   "outputs": [
    {
     "name": "stdout",
     "output_type": "stream",
     "text": [
      "0 frame---------------------------------------\n",
      "0 - root : [0.03768173 0.05005858 0.        ]\n",
      "1 - RHip : [-0.1000087   0.08143686  0.00129454]\n",
      "2 - RKnee : [-0.08476543  0.5595484   0.11303172]\n",
      "3 - RAnkle : [-0.09197865  0.9423065   0.23928683]\n",
      "4 - LHip : [0.16553575 0.06564985 0.03721961]\n",
      "5 - LKnee : [0.1290741  0.5565841  0.12816444]\n",
      "6 - LAnkle : [0.10348095 0.94157517 0.24331982]\n",
      "7 - torso : [ 0.014557   -0.30375177 -0.05320794]\n",
      "8 - neck : [-0.02445125 -0.645584   -0.14199507]\n",
      "9 - nose : [-0.00713882 -0.8157228  -0.26700154]\n",
      "10 - head : [-0.01392266 -0.9944185  -0.24872652]\n",
      "11 - LShoulder : [ 0.21354595 -0.6147522  -0.10536033]\n",
      "12 - LElbow : [ 0.27860343 -0.27429682  0.06236859]\n",
      "13 - LWrist : [0.27588317 0.01656048 0.07011461]\n",
      "14 - RShoulder : [-0.21510932 -0.49337065 -0.11883163]\n",
      "15 - RElbow : [-0.20651954 -0.1483562   0.03170614]\n",
      "16 - RWrist : [-0.21250343  0.14715345  0.09092017]\n"
     ]
    }
   ],
   "source": [
    "motion_data = np.load('MotionBERT/examples/results/motionbert_unnormal.npy')\n",
    "\n",
    "k = ['root', 'RHip', 'RKnee', 'RAnkle', 'LHip', 'LKnee', 'LAnkle', 'torso', 'neck', 'nose', 'head', 'LShoulder', 'LElbow', 'LWrist', 'RShoulder', 'RElbow', 'RWrist']\n",
    "frame = 0\n",
    "print(frame, \"frame---------------------------------------\")\n",
    "for i, key in enumerate(motion_data[frame]):\n",
    "    print(i, \"-\", k[i], \":\", key)"
   ]
  },
  {
   "cell_type": "code",
   "execution_count": 168,
   "metadata": {},
   "outputs": [],
   "source": [
    "def visual_alpha_result(file_path):\n",
    "\n",
    "    with open(file_path, \"r\") as f:\n",
    "        alpha_data = json.load(f)\n",
    "    \n",
    "    alpha_list = []\n",
    "    for alpha_data_frame in alpha_data:\n",
    "        alpha_list.append(alpha_data_frame['keypoints'])\n",
    "    alpha_npdata = np.array(alpha_list)\n",
    "    print(\"alpha_npdata.shape:\", alpha_npdata.shape)\n",
    "    alpha_npmean = np.mean(alpha_npdata, axis=0)\n",
    "    print(\"alpha_npmean.shape:\", alpha_npmean.shape)\n",
    "    \n",
    "    # 골반 기울기 검사\n",
    "    print(\"\\n-------------mean hip-------------\")\n",
    "    mean_l_hip = alpha_npmean[33:35]\n",
    "    mena_r_hip = alpha_npmean[36:38]\n",
    "    mean_hip_rad = math.atan2(mean_l_hip[1] - mena_r_hip[1], mean_l_hip[0] - mena_r_hip[0])\n",
    "    mean_hip_deg = (mean_hip_rad*180)/math.pi\n",
    "    print(\"rad:\", mean_hip_rad, \"/ abs rad:\", abs(mean_hip_rad))\n",
    "    print(\"deg:\", mean_hip_deg, \"/ abs_deg:\", abs(mean_hip_deg))\n",
    "\n",
    "    print(\"\\n----------------mean shoulder----------------\")\n",
    "    mean_l_shoulder = alpha_npmean[15:17]\n",
    "    mean_r_shoulder = alpha_npmean[18:20]\n",
    "    mean_shoulder_rad = math.atan2(mean_l_shoulder[1] - mean_r_shoulder[1], mean_l_shoulder[0] - mean_r_shoulder[0])\n",
    "    mean_shoulder_deg = (mean_shoulder_rad*180)/math.pi\n",
    "    print(\"rad:\", mean_shoulder_rad, \"/ abs rad:\", abs(mean_shoulder_rad))\n",
    "    print(\"deg:\", mean_shoulder_deg, \"/ abs_deg:\", abs(mean_shoulder_deg))\n",
    "\n",
    "    frame = 0\n",
    "    val = alpha_data[frame]['keypoints']\n",
    "\n",
    "    # 골반 기울기 검사\n",
    "    print(\"\\n-------------골반 기울기-------------\")\n",
    "    l_hip = val[33:35]\n",
    "    r_hip = val[36:38]\n",
    "    hip_rad = math.atan2(l_hip[1] - r_hip[1], l_hip[0] - r_hip[0])\n",
    "    hip_deg = (hip_rad*180)/math.pi\n",
    "    print(\"rad:\", hip_rad, \"/ abs rad:\", abs(hip_rad))\n",
    "    print(\"deg:\", hip_deg, \"/ abs_deg:\", abs(hip_deg))\n",
    "\n",
    "    # 어깨 기울기 검사\n",
    "    print(\"\\n-------------어깨 기울기-------------\")\n",
    "    l_shoulder = val[15:17]\n",
    "    r_shoulder = val[18:20]\n",
    "    shoulder_rad = math.atan2(l_shoulder[1] - r_shoulder[1], l_shoulder[0] - r_shoulder[0])\n",
    "    shoulder_deg = (shoulder_rad*180)/math.pi\n",
    "    print(\"rad:\", shoulder_rad, \"/ abs rad:\", abs(shoulder_rad))\n",
    "    print(\"deg:\", shoulder_deg, \"/ abs_deg:\", abs(shoulder_deg))"
   ]
  },
  {
   "cell_type": "code",
   "execution_count": 169,
   "metadata": {},
   "outputs": [],
   "source": [
    "def visual_motion_result(file_path):\n",
    "\n",
    "    motion_data = np.load(file_path)\n",
    "    print(\"motion data shape:\", motion_data.shape) # (프레임 개수, 키포인트, (x,y,z) 좌표) \n",
    "\n",
    "    frame = 0\n",
    "    val = motion_data[frame]\n",
    "\n",
    "    # 거북목 증후군 검사\n",
    "    print(\"\\n---------------거북목---------------\")\n",
    "    head = val[10]\n",
    "    neck = val[8]\n",
    "    tutle_xz = cal_2d_distance(head[0], head[2], neck[0], neck[2])\n",
    "    turtle_rad_3d = math.atan2(head[1] - neck[1], tutle_xz)\n",
    "    turtle_deg_3d = (turtle_rad_3d*180)/math.pi\n",
    "    print(\"rad:\", turtle_rad_3d, \"/ abs rad:\", abs(turtle_rad_3d))\n",
    "    print(\"deg:\", turtle_deg_3d, \"/ abs_deg:\", abs(turtle_deg_3d))\n",
    "\n",
    "    # 골반 기울기 검사\n",
    "    print(\"\\n-------------골반 기울기-------------\")\n",
    "    l_hip = val[4]\n",
    "    r_hip = val[1]\n",
    "    hip_xz = cal_2d_distance(l_hip[0], l_hip[2], r_hip[0], r_hip[2])\n",
    "    hip_rad_3d = math.atan2(l_hip[1] - r_hip[1], hip_xz)\n",
    "    hep_deg_3d = (hip_rad_3d*180)/math.pi\n",
    "    print(\"rad:\", hip_rad_3d, \"/ abs rad:\", abs(hip_rad_3d))\n",
    "    print(\"deg:\", hep_deg_3d, \"/ abs_deg:\", abs(hep_deg_3d))\n",
    "\n",
    "    # 어깨 기울기 검사\n",
    "    print(\"\\n-------------어깨 기울기-------------\")\n",
    "    l_shoulder = val[11]\n",
    "    r_shoulder = val[14]\n",
    "    shoulder_xz = cal_2d_distance(l_shoulder[0], l_shoulder[2], r_shoulder[0], r_shoulder[2])\n",
    "    shoulder_rad_3d = math.atan2(l_shoulder[1] - r_shoulder[1], shoulder_xz)\n",
    "    shoulder_deg_3d = (shoulder_rad_3d*180)/math.pi\n",
    "    print(\"rad:\", shoulder_rad_3d, \"/ abs rad:\", abs(shoulder_rad_3d))\n",
    "    print(\"deg:\", shoulder_deg_3d, \"/ abs_deg:\", abs(shoulder_deg_3d), \"\\n\")\n",
    "\n",
    "    copyed_data = motion_data.copy()\n",
    "    data_len = len(copyed_data)\n",
    "    threshold = int(data_len * 0.2)\n",
    "    middle_data = copyed_data[threshold:data_len-threshold]\n",
    "    print(\"threshold:\", threshold, \", middle_data:\", middle_data.shape)\n",
    "    mean_data = np.mean(middle_data, axis=0)\n",
    "    \n",
    "    print(\"\\n---------------mean turtle neck---------------\")\n",
    "    head = mean_data[10]\n",
    "    neck = mean_data[8]\n",
    "    tutle_xz = cal_2d_distance(head[0], head[2], neck[0], neck[2])\n",
    "    turtle_rad_3dm = math.atan2(head[1] - neck[1], tutle_xz)\n",
    "    turtle_deg_3dm = (turtle_rad_3dm*180)/math.pi\n",
    "    print(\"rad:\", turtle_rad_3dm, \"/ abs rad:\", abs(turtle_rad_3dm))\n",
    "    print(\"deg:\", turtle_deg_3dm, \"/ abs_deg:\", abs(turtle_deg_3dm))\n",
    "\n",
    "    print(\"\\n-------------mean hip-------------\")\n",
    "    l_hip = mean_data[4]\n",
    "    r_hip = mean_data[1]\n",
    "    hip_xz = cal_2d_distance(l_hip[0], l_hip[2], r_hip[0], r_hip[2])\n",
    "    hip_rad_3dm = math.atan2(l_hip[1] - r_hip[1], hip_xz)\n",
    "    hep_deg_3dm = (hip_rad_3dm*180)/math.pi\n",
    "    print(\"rad:\", hip_rad_3dm, \"/ abs rad:\", abs(hip_rad_3dm))\n",
    "    print(\"deg:\", hep_deg_3dm, \"/ abs_deg:\", abs(hep_deg_3dm))\n",
    "\n",
    "    print(\"\\n-------------mean shoulder-------------\")\n",
    "    l_shoulder = mean_data[11]\n",
    "    r_shoulder = mean_data[14]\n",
    "    shoulder_xz = cal_2d_distance(l_shoulder[0], l_shoulder[2], r_shoulder[0], r_shoulder[2])\n",
    "    shoulder_rad_3dm = math.atan2(l_shoulder[1] - r_shoulder[1], shoulder_xz)\n",
    "    shoulder_deg_3dm = (shoulder_rad_3dm*180)/math.pi\n",
    "    print(\"rad:\", shoulder_rad_3dm, \"/ abs rad:\", abs(shoulder_rad_3dm))\n",
    "    print(\"deg:\", shoulder_deg_3dm, \"/ abs_deg:\", abs(shoulder_deg_3dm))"
   ]
  },
  {
   "cell_type": "code",
   "execution_count": 170,
   "metadata": {},
   "outputs": [
    {
     "name": "stdout",
     "output_type": "stream",
     "text": [
      "AlphaPose/examples/results/alphapose_unnormal.json\n",
      "\n",
      "alpha_npdata.shape: (129, 78)\n",
      "alpha_npmean.shape: (78,)\n",
      "\n",
      "-------------mean hip-------------\n",
      "rad: -0.05711477529600509 / abs rad: 0.05711477529600509\n",
      "deg: -3.2724355722991487 / abs_deg: 3.2724355722991487\n",
      "\n",
      "----------------mean shoulder----------------\n",
      "rad: -0.2496581068270001 / abs rad: 0.2496581068270001\n",
      "deg: -14.30435584241335 / abs_deg: 14.30435584241335\n",
      "\n",
      "-------------골반 기울기-------------\n",
      "rad: -0.09066019046792476 / abs rad: 0.09066019046792476\n",
      "deg: -5.194446283664264 / abs_deg: 5.194446283664264\n",
      "\n",
      "-------------어깨 기울기-------------\n",
      "rad: -0.24497869421811996 / abs rad: 0.24497869421811996\n",
      "deg: -14.036245249324217 / abs_deg: 14.036245249324217\n"
     ]
    }
   ],
   "source": [
    "file_path = 'AlphaPose/examples/results/alphapose_unnormal.json'\n",
    "print(file_path)\n",
    "print()\n",
    "visual_alpha_result(file_path)"
   ]
  },
  {
   "cell_type": "code",
   "execution_count": 171,
   "metadata": {},
   "outputs": [
    {
     "name": "stdout",
     "output_type": "stream",
     "text": [
      "MotionBERT/examples/results/motionbert_unnormal.npy\n",
      "\n",
      "motion data shape: (129, 17, 3)\n",
      "\n",
      "---------------거북목---------------\n",
      "rad: -1.2725179336402943 / abs rad: 1.2725179336402943\n",
      "deg: -72.90990695229743 / abs_deg: 72.90990695229743\n",
      "\n",
      "-------------골반 기울기-------------\n",
      "rad: -0.05884672846882429 / abs rad: 0.05884672846882429\n",
      "deg: -3.371669179415981 / abs_deg: 3.371669179415981\n",
      "\n",
      "-------------어깨 기울기-------------\n",
      "rad: -0.2758147456212402 / abs rad: 0.2758147456212402\n",
      "deg: -15.803020851571466 / abs_deg: 15.803020851571466 \n",
      "\n",
      "threshold: 25 , middle_data: (79, 17, 3)\n",
      "\n",
      "---------------mean turtle neck---------------\n",
      "rad: -1.2474560551035576 / abs rad: 1.2474560551035576\n",
      "deg: -71.4739670854729 / abs_deg: 71.4739670854729\n",
      "\n",
      "-------------mean hip-------------\n",
      "rad: -0.04866046800162735 / abs rad: 0.04866046800162735\n",
      "deg: -2.7880394456246385 / abs_deg: 2.7880394456246385\n",
      "\n",
      "-------------mean shoulder-------------\n",
      "rad: -0.26929184342668594 / abs rad: 0.26929184342668594\n",
      "deg: -15.429286085646885 / abs_deg: 15.429286085646885\n"
     ]
    }
   ],
   "source": [
    "file_path = 'MotionBERT/examples/results/motionbert_unnormal.npy'\n",
    "print(file_path)\n",
    "print()\n",
    "visual_motion_result(file_path)"
   ]
  },
  {
   "cell_type": "code",
   "execution_count": 172,
   "metadata": {},
   "outputs": [
    {
     "name": "stdout",
     "output_type": "stream",
     "text": [
      "AlphaPose/examples/results/alphapose_normal.json\n",
      "\n",
      "alpha_npdata.shape: (145, 78)\n",
      "alpha_npmean.shape: (78,)\n",
      "\n",
      "-------------mean hip-------------\n",
      "rad: 0.0077286414460645365 / abs rad: 0.0077286414460645365\n",
      "deg: 0.4428185362293834 / abs_deg: 0.4428185362293834\n",
      "\n",
      "----------------mean shoulder----------------\n",
      "rad: -0.036960448971771045 / abs rad: 0.036960448971771045\n",
      "deg: -2.117677734991124 / abs_deg: 2.117677734991124\n",
      "\n",
      "-------------골반 기울기-------------\n",
      "rad: 0.0 / abs rad: 0.0\n",
      "deg: 0.0 / abs_deg: 0.0\n",
      "\n",
      "-------------어깨 기울기-------------\n",
      "rad: -0.04995838947911737 / abs rad: 0.04995838947911737\n",
      "deg: -2.8624048684242007 / abs_deg: 2.8624048684242007\n"
     ]
    }
   ],
   "source": [
    "file_path = 'AlphaPose/examples/results/alphapose_normal.json'\n",
    "print(file_path)\n",
    "print()\n",
    "visual_alpha_result(file_path)"
   ]
  },
  {
   "cell_type": "code",
   "execution_count": 173,
   "metadata": {},
   "outputs": [
    {
     "name": "stdout",
     "output_type": "stream",
     "text": [
      "MotionBERT/examples/results/motionbert_normal.npy\n",
      "\n",
      "motion data shape: (145, 17, 3)\n",
      "\n",
      "---------------거북목---------------\n",
      "rad: -1.2926011560177726 / abs rad: 1.2926011560177726\n",
      "deg: -74.06059083354963 / abs_deg: 74.06059083354963\n",
      "\n",
      "-------------골반 기울기-------------\n",
      "rad: 0.004560992006447744 / abs rad: 0.004560992006447744\n",
      "deg: 0.2613255923623609 / abs_deg: 0.2613255923623609\n",
      "\n",
      "-------------어깨 기울기-------------\n",
      "rad: -0.03935005613446208 / abs rad: 0.03935005613446208\n",
      "deg: -2.254592140107552 / abs_deg: 2.254592140107552 \n",
      "\n",
      "threshold: 29 , middle_data: (87, 17, 3)\n",
      "\n",
      "---------------mean turtle neck---------------\n",
      "rad: -1.2905517138144857 / abs rad: 1.2905517138144857\n",
      "deg: -73.94316644494529 / abs_deg: 73.94316644494529\n",
      "\n",
      "-------------mean hip-------------\n",
      "rad: 0.005243765573135167 / abs rad: 0.005243765573135167\n",
      "deg: 0.30044563609664426 / abs_deg: 0.30044563609664426\n",
      "\n",
      "-------------mean shoulder-------------\n",
      "rad: -0.038658048350390675 / abs rad: 0.038658048350390675\n",
      "deg: -2.21494301469006 / abs_deg: 2.21494301469006\n"
     ]
    }
   ],
   "source": [
    "file_path = 'MotionBERT/examples/results/motionbert_normal.npy'\n",
    "print(file_path)\n",
    "print()\n",
    "visual_motion_result(file_path)"
   ]
  },
  {
   "cell_type": "code",
   "execution_count": 174,
   "metadata": {},
   "outputs": [
    {
     "name": "stdout",
     "output_type": "stream",
     "text": [
      "AlphaPose/examples/results/alphapose_sample1.json\n",
      "\n",
      "alpha_npdata.shape: (80, 78)\n",
      "alpha_npmean.shape: (78,)\n",
      "\n",
      "-------------mean hip-------------\n",
      "rad: -0.06979061946706953 / abs rad: 0.06979061946706953\n",
      "deg: -3.998707945066647 / abs_deg: 3.998707945066647\n",
      "\n",
      "----------------mean shoulder----------------\n",
      "rad: -0.22006679218968836 / abs rad: 0.22006679218968836\n",
      "deg: -12.60889840345169 / abs_deg: 12.60889840345169\n",
      "\n",
      "-------------골반 기울기-------------\n",
      "rad: 0.0 / abs rad: 0.0\n",
      "deg: 0.0 / abs_deg: 0.0\n",
      "\n",
      "-------------어깨 기울기-------------\n",
      "rad: -0.22347660114063303 / abs rad: 0.22347660114063303\n",
      "deg: -12.804266065286752 / abs_deg: 12.804266065286752\n"
     ]
    }
   ],
   "source": [
    "file_path = 'AlphaPose/examples/results/alphapose_sample1.json'\n",
    "print(file_path)\n",
    "print()\n",
    "visual_alpha_result(file_path)"
   ]
  },
  {
   "cell_type": "code",
   "execution_count": 175,
   "metadata": {},
   "outputs": [
    {
     "name": "stdout",
     "output_type": "stream",
     "text": [
      "MotionBERT/examples/results/motionbert_sample1.npy\n",
      "\n",
      "motion data shape: (80, 17, 3)\n",
      "\n",
      "---------------거북목---------------\n",
      "rad: -1.2084147203806208 / abs rad: 1.2084147203806208\n",
      "deg: -69.23706337929107 / abs_deg: 69.23706337929107\n",
      "\n",
      "-------------골반 기울기-------------\n",
      "rad: -0.031913184612628896 / abs rad: 0.031913184612628896\n",
      "deg: -1.8284907891254767 / abs_deg: 1.8284907891254767\n",
      "\n",
      "-------------어깨 기울기-------------\n",
      "rad: -0.2245943118350053 / abs rad: 0.2245943118350053\n",
      "deg: -12.86830617079092 / abs_deg: 12.86830617079092 \n",
      "\n",
      "threshold: 16 , middle_data: (48, 17, 3)\n",
      "\n",
      "---------------mean turtle neck---------------\n",
      "rad: -1.2127973777534993 / abs rad: 1.2127973777534993\n",
      "deg: -69.4881711498089 / abs_deg: 69.4881711498089\n",
      "\n",
      "-------------mean hip-------------\n",
      "rad: -0.03478351962024391 / abs rad: 0.03478351962024391\n",
      "deg: -1.9929488708504681 / abs_deg: 1.9929488708504681\n",
      "\n",
      "-------------mean shoulder-------------\n",
      "rad: -0.22734268596277854 / abs rad: 0.22734268596277854\n",
      "deg: -13.025776408835274 / abs_deg: 13.025776408835274\n"
     ]
    }
   ],
   "source": [
    "file_path = 'MotionBERT/examples/results/motionbert_sample1.npy'\n",
    "print(file_path)\n",
    "print()\n",
    "visual_motion_result(file_path)"
   ]
  },
  {
   "cell_type": "code",
   "execution_count": 176,
   "metadata": {},
   "outputs": [
    {
     "name": "stdout",
     "output_type": "stream",
     "text": [
      "AlphaPose/examples/results/alphapose_sample2.json\n",
      "\n",
      "alpha_npdata.shape: (88, 78)\n",
      "alpha_npmean.shape: (78,)\n",
      "\n",
      "-------------mean hip-------------\n",
      "rad: -0.08721328657668846 / abs rad: 0.08721328657668846\n",
      "deg: -4.996953238309205 / abs_deg: 4.996953238309205\n",
      "\n",
      "----------------mean shoulder----------------\n",
      "rad: -0.14723029548051664 / abs rad: 0.14723029548051664\n",
      "deg: -8.435674547497642 / abs_deg: 8.435674547497642\n",
      "\n",
      "-------------골반 기울기-------------\n",
      "rad: -0.09966872252275819 / abs rad: 0.09966872252275819\n",
      "deg: -5.710597150014535 / abs_deg: 5.710597150014535\n",
      "\n",
      "-------------어깨 기울기-------------\n",
      "rad: -0.09966863498326284 / abs rad: 0.09966863498326284\n",
      "deg: -5.710592134370912 / abs_deg: 5.710592134370912\n"
     ]
    }
   ],
   "source": [
    "file_path = 'AlphaPose/examples/results/alphapose_sample2.json'\n",
    "print(file_path)\n",
    "print()\n",
    "visual_alpha_result(file_path)"
   ]
  },
  {
   "cell_type": "code",
   "execution_count": 177,
   "metadata": {},
   "outputs": [
    {
     "name": "stdout",
     "output_type": "stream",
     "text": [
      "MotionBERT/examples/results/motionbert_sample2.npy\n",
      "\n",
      "motion data shape: (88, 17, 3)\n",
      "\n",
      "---------------거북목---------------\n",
      "rad: -1.2803451363057106 / abs rad: 1.2803451363057106\n",
      "deg: -73.35837263041932 / abs_deg: 73.35837263041932\n",
      "\n",
      "-------------골반 기울기-------------\n",
      "rad: -0.07317916962069335 / abs rad: 0.07317916962069335\n",
      "deg: -4.192857567537699 / abs_deg: 4.192857567537699\n",
      "\n",
      "-------------어깨 기울기-------------\n",
      "rad: -0.1260734762925144 / abs rad: 0.1260734762925144\n",
      "deg: -7.223478100103716 / abs_deg: 7.223478100103716 \n",
      "\n",
      "threshold: 17 , middle_data: (54, 17, 3)\n",
      "\n",
      "---------------mean turtle neck---------------\n",
      "rad: -1.2740672049575097 / abs rad: 1.2740672049575097\n",
      "deg: -72.99867366009454 / abs_deg: 72.99867366009454\n",
      "\n",
      "-------------mean hip-------------\n",
      "rad: -0.0638072553725294 / abs rad: 0.0638072553725294\n",
      "deg: -3.6558864351593825 / abs_deg: 3.6558864351593825\n",
      "\n",
      "-------------mean shoulder-------------\n",
      "rad: -0.15551657005637348 / abs rad: 0.15551657005637348\n",
      "deg: -8.910443108580795 / abs_deg: 8.910443108580795\n"
     ]
    }
   ],
   "source": [
    "file_path = 'MotionBERT/examples/results/motionbert_sample2.npy'\n",
    "print(file_path)\n",
    "print()\n",
    "visual_motion_result(file_path)"
   ]
  },
  {
   "cell_type": "code",
   "execution_count": 178,
   "metadata": {},
   "outputs": [
    {
     "name": "stdout",
     "output_type": "stream",
     "text": [
      "AlphaPose/examples/results/alphapose_trans.json\n",
      "\n",
      "alpha_npdata.shape: (76, 78)\n",
      "alpha_npmean.shape: (78,)\n",
      "\n",
      "-------------mean hip-------------\n",
      "rad: 0.050031946490248065 / abs rad: 0.050031946490248065\n",
      "deg: 2.866619374715586 / abs_deg: 2.866619374715586\n",
      "\n",
      "----------------mean shoulder----------------\n",
      "rad: 0.02175252064513546 / abs rad: 0.02175252064513546\n",
      "deg: 1.2463276267374526 / abs_deg: 1.2463276267374526\n",
      "\n",
      "-------------골반 기울기-------------\n",
      "rad: 0.0587556038918514 / abs rad: 0.0587556038918514\n",
      "deg: 3.3664481257455194 / abs_deg: 3.3664481257455194\n",
      "\n",
      "-------------어깨 기울기-------------\n",
      "rad: 0.03997874625699861 / abs rad: 0.03997874625699861\n",
      "deg: 2.2906134307504575 / abs_deg: 2.2906134307504575\n"
     ]
    }
   ],
   "source": [
    "file_path = 'AlphaPose/examples/results/alphapose_trans.json'\n",
    "print(file_path)\n",
    "print()\n",
    "visual_alpha_result(file_path)"
   ]
  },
  {
   "cell_type": "code",
   "execution_count": 179,
   "metadata": {},
   "outputs": [
    {
     "name": "stdout",
     "output_type": "stream",
     "text": [
      "MotionBERT/examples/results/motionbert_trans.npy\n",
      "\n",
      "motion data shape: (76, 17, 3)\n",
      "\n",
      "---------------거북목---------------\n",
      "rad: -1.2569371781465362 / abs rad: 1.2569371781465362\n",
      "deg: -72.01719542087982 / abs_deg: 72.01719542087982\n",
      "\n",
      "-------------골반 기울기-------------\n",
      "rad: 0.031735461688917534 / abs rad: 0.031735461688917534\n",
      "deg: 1.8183080156740903 / abs_deg: 1.8183080156740903\n",
      "\n",
      "-------------어깨 기울기-------------\n",
      "rad: 0.02296865238767469 / abs rad: 0.02296865238767469\n",
      "deg: 1.3160068429168408 / abs_deg: 1.3160068429168408 \n",
      "\n",
      "threshold: 15 , middle_data: (46, 17, 3)\n",
      "\n",
      "---------------mean turtle neck---------------\n",
      "rad: -1.1353912427454331 / abs rad: 1.1353912427454331\n",
      "deg: -65.05312630542686 / abs_deg: 65.05312630542686\n",
      "\n",
      "-------------mean hip-------------\n",
      "rad: 0.04233439621993919 / abs rad: 0.04233439621993919\n",
      "deg: 2.4255822316371014 / abs_deg: 2.4255822316371014\n",
      "\n",
      "-------------mean shoulder-------------\n",
      "rad: 0.021996232841265867 / abs rad: 0.021996232841265867\n",
      "deg: 1.2602913069915893 / abs_deg: 1.2602913069915893\n"
     ]
    }
   ],
   "source": [
    "file_path = 'MotionBERT/examples/results/motionbert_trans.npy'\n",
    "print(file_path)\n",
    "print()\n",
    "visual_motion_result(file_path)"
   ]
  },
  {
   "cell_type": "code",
   "execution_count": 180,
   "metadata": {},
   "outputs": [
    {
     "name": "stdout",
     "output_type": "stream",
     "text": [
      "AlphaPose/examples/results/alphapose_sample3.json\n",
      "\n",
      "alpha_npdata.shape: (94, 78)\n",
      "alpha_npmean.shape: (78,)\n",
      "\n",
      "-------------mean hip-------------\n",
      "rad: 0.09494128978720476 / abs rad: 0.09494128978720476\n",
      "deg: 5.439735206335338 / abs_deg: 5.439735206335338\n",
      "\n",
      "----------------mean shoulder----------------\n",
      "rad: 0.2729864054383693 / abs rad: 0.2729864054383693\n",
      "deg: 15.640968896065703 / abs_deg: 15.640968896065703\n",
      "\n",
      "-------------골반 기울기-------------\n",
      "rad: 0.09065981916466177 / abs rad: 0.09065981916466177\n",
      "deg: 5.194425009554376 / abs_deg: 5.194425009554376\n",
      "\n",
      "-------------어깨 기울기-------------\n",
      "rad: 0.27829972861016583 / abs rad: 0.27829972861016583\n",
      "deg: 15.94539988899871 / abs_deg: 15.94539988899871\n"
     ]
    }
   ],
   "source": [
    "file_path = 'AlphaPose/examples/results/alphapose_sample3.json'\n",
    "print(file_path)\n",
    "print()\n",
    "visual_alpha_result(file_path)"
   ]
  },
  {
   "cell_type": "code",
   "execution_count": 181,
   "metadata": {},
   "outputs": [
    {
     "name": "stdout",
     "output_type": "stream",
     "text": [
      "MotionBERT/examples/results/motionbert_sample3.npy\n",
      "\n",
      "motion data shape: (94, 17, 3)\n",
      "\n",
      "---------------거북목---------------\n",
      "rad: -1.238260378687179 / abs rad: 1.238260378687179\n",
      "deg: -70.94709363704644 / abs_deg: 70.94709363704644\n",
      "\n",
      "-------------골반 기울기-------------\n",
      "rad: 0.07038634935276201 / abs rad: 0.07038634935276201\n",
      "deg: 4.032840753246638 / abs_deg: 4.032840753246638\n",
      "\n",
      "-------------어깨 기울기-------------\n",
      "rad: 0.27921970573393623 / abs rad: 0.27921970573393623\n",
      "deg: 15.998110695439339 / abs_deg: 15.998110695439339 \n",
      "\n",
      "threshold: 18 , middle_data: (58, 17, 3)\n",
      "\n",
      "---------------mean turtle neck---------------\n",
      "rad: -1.239576732407569 / abs rad: 1.239576732407569\n",
      "deg: -71.02251514957112 / abs_deg: 71.02251514957112\n",
      "\n",
      "-------------mean hip-------------\n",
      "rad: 0.0720068702331595 / abs rad: 0.0720068702331595\n",
      "deg: 4.125689760306238 / abs_deg: 4.125689760306238\n",
      "\n",
      "-------------mean shoulder-------------\n",
      "rad: 0.2714586493936354 / abs rad: 0.2714586493936354\n",
      "deg: 15.553434922576852 / abs_deg: 15.553434922576852\n"
     ]
    }
   ],
   "source": [
    "file_path = 'MotionBERT/examples/results/motionbert_sample3.npy'\n",
    "print(file_path)\n",
    "print()\n",
    "visual_motion_result(file_path)"
   ]
  },
  {
   "cell_type": "code",
   "execution_count": 182,
   "metadata": {},
   "outputs": [
    {
     "name": "stdout",
     "output_type": "stream",
     "text": [
      "AlphaPose/examples/results/alphapose_sample4.json\n",
      "\n",
      "alpha_npdata.shape: (99, 78)\n",
      "alpha_npmean.shape: (78,)\n",
      "\n",
      "-------------mean hip-------------\n",
      "rad: -0.05487097625007288 / abs rad: 0.05487097625007288\n",
      "deg: -3.1438753568917526 / abs_deg: 3.1438753568917526\n",
      "\n",
      "----------------mean shoulder----------------\n",
      "rad: -0.33003688469945786 / abs rad: 0.33003688469945786\n",
      "deg: -18.90972057692471 / abs_deg: 18.90972057692471\n",
      "\n",
      "-------------골반 기울기-------------\n",
      "rad: -0.09065997486254798 / abs rad: 0.09065997486254798\n",
      "deg: -5.194433930386134 / abs_deg: 5.194433930386134\n",
      "\n",
      "-------------어깨 기울기-------------\n",
      "rad: -0.3366748372509963 / abs rad: 0.3366748372509963\n",
      "deg: -19.29004724273596 / abs_deg: 19.29004724273596\n"
     ]
    }
   ],
   "source": [
    "file_path = 'AlphaPose/examples/results/alphapose_sample4.json'\n",
    "print(file_path)\n",
    "print()\n",
    "visual_alpha_result(file_path)"
   ]
  },
  {
   "cell_type": "code",
   "execution_count": 183,
   "metadata": {},
   "outputs": [
    {
     "name": "stdout",
     "output_type": "stream",
     "text": [
      "MotionBERT/examples/results/motionbert_sample4.npy\n",
      "\n",
      "motion data shape: (99, 17, 3)\n",
      "\n",
      "---------------거북목---------------\n",
      "rad: -1.163832447017586 / abs rad: 1.163832447017586\n",
      "deg: -66.68268727449068 / abs_deg: 66.68268727449068\n",
      "\n",
      "-------------골반 기울기-------------\n",
      "rad: -0.027580749285808188 / abs rad: 0.027580749285808188\n",
      "deg: -1.5802605298852686 / abs_deg: 1.5802605298852686\n",
      "\n",
      "-------------어깨 기울기-------------\n",
      "rad: -0.3319034930497446 / abs rad: 0.3319034930497446\n",
      "deg: -19.016669357400016 / abs_deg: 19.016669357400016 \n",
      "\n",
      "threshold: 19 , middle_data: (61, 17, 3)\n",
      "\n",
      "---------------mean turtle neck---------------\n",
      "rad: -1.1685861555857064 / abs rad: 1.1685861555857064\n",
      "deg: -66.95505471247915 / abs_deg: 66.95505471247915\n",
      "\n",
      "-------------mean hip-------------\n",
      "rad: -0.03519107193496881 / abs rad: 0.03519107193496881\n",
      "deg: -2.0162998984149922 / abs_deg: 2.0162998984149922\n",
      "\n",
      "-------------mean shoulder-------------\n",
      "rad: -0.3508583593607593 / abs rad: 0.3508583593607593\n",
      "deg: -20.10270319825587 / abs_deg: 20.10270319825587\n"
     ]
    }
   ],
   "source": [
    "file_path = 'MotionBERT/examples/results/motionbert_sample4.npy'\n",
    "print(file_path)\n",
    "print()\n",
    "visual_motion_result(file_path)"
   ]
  },
  {
   "cell_type": "code",
   "execution_count": 184,
   "metadata": {},
   "outputs": [
    {
     "name": "stdout",
     "output_type": "stream",
     "text": [
      "AlphaPose/examples/results/alphapose_1.json\n",
      "\n",
      "alpha_npdata.shape: (70, 78)\n",
      "alpha_npmean.shape: (78,)\n",
      "\n",
      "-------------mean hip-------------\n",
      "rad: -0.0010429398754844429 / abs rad: 0.0010429398754844429\n",
      "deg: -0.059756053151158166 / abs_deg: 0.059756053151158166\n",
      "\n",
      "----------------mean shoulder----------------\n",
      "rad: 0.07021277320750564 / abs rad: 0.07021277320750564\n",
      "deg: 4.022895572699297 / abs_deg: 4.022895572699297\n",
      "\n",
      "-------------골반 기울기-------------\n",
      "rad: 0.0 / abs rad: 0.0\n",
      "deg: 0.0 / abs_deg: 0.0\n",
      "\n",
      "-------------어깨 기울기-------------\n",
      "rad: 0.09495166710046685 / abs rad: 0.09495166710046685\n",
      "deg: 5.440329782587941 / abs_deg: 5.440329782587941\n"
     ]
    }
   ],
   "source": [
    "file_path = 'AlphaPose/examples/results/alphapose_1.json'\n",
    "print(file_path)\n",
    "print()\n",
    "visual_alpha_result(file_path)"
   ]
  },
  {
   "cell_type": "code",
   "execution_count": 186,
   "metadata": {},
   "outputs": [
    {
     "name": "stdout",
     "output_type": "stream",
     "text": [
      "MotionBERT/examples/results/motion_1.npy\n",
      "\n",
      "motion data shape: (70, 17, 3)\n",
      "\n",
      "---------------거북목---------------\n",
      "rad: -1.1901820912791032 / abs rad: 1.1901820912791032\n",
      "deg: -68.19241068234672 / abs_deg: 68.19241068234672\n",
      "\n",
      "-------------골반 기울기-------------\n",
      "rad: -0.011953783801078033 / abs rad: 0.011953783801078033\n",
      "deg: -0.6849013610136221 / abs_deg: 0.6849013610136221\n",
      "\n",
      "-------------어깨 기울기-------------\n",
      "rad: 0.08698816014441024 / abs rad: 0.08698816014441024\n",
      "deg: 4.984054443882825 / abs_deg: 4.984054443882825 \n",
      "\n",
      "threshold: 14 , middle_data: (42, 17, 3)\n",
      "\n",
      "---------------mean turtle neck---------------\n",
      "rad: -1.2108588295687686 / abs rad: 1.2108588295687686\n",
      "deg: -69.37710052044109 / abs_deg: 69.37710052044109\n",
      "\n",
      "-------------mean hip-------------\n",
      "rad: -0.006314894948585785 / abs rad: 0.006314894948585785\n",
      "deg: -0.3618168286224485 / abs_deg: 0.3618168286224485\n",
      "\n",
      "-------------mean shoulder-------------\n",
      "rad: 0.07851422061708713 / abs rad: 0.07851422061708713\n",
      "deg: 4.498533473118126 / abs_deg: 4.498533473118126\n"
     ]
    }
   ],
   "source": [
    "file_path = 'MotionBERT/examples/results/motion_1.npy'\n",
    "print(file_path)\n",
    "print()\n",
    "visual_motion_result(file_path)"
   ]
  },
  {
   "cell_type": "code",
   "execution_count": 187,
   "metadata": {},
   "outputs": [
    {
     "name": "stdout",
     "output_type": "stream",
     "text": [
      "AlphaPose/examples/results/alphapose_2.json\n",
      "\n",
      "alpha_npdata.shape: (88, 78)\n",
      "alpha_npmean.shape: (78,)\n",
      "\n",
      "-------------mean hip-------------\n",
      "rad: 0.0037939896776599956 / abs rad: 0.0037939896776599956\n",
      "deg: 0.21737959604611737 / abs_deg: 0.21737959604611737\n",
      "\n",
      "----------------mean shoulder----------------\n",
      "rad: -0.04591025791587451 / abs rad: 0.04591025791587451\n",
      "deg: -2.6304640149366887 / abs_deg: 2.6304640149366887\n",
      "\n",
      "-------------골반 기울기-------------\n",
      "rad: -0.09065994103802699 / abs rad: 0.09065994103802699\n",
      "deg: -5.194431992383838 / abs_deg: 5.194431992383838\n",
      "\n",
      "-------------어깨 기울기-------------\n",
      "rad: -0.05258308429100846 / abs rad: 0.05258308429100846\n",
      "deg: -3.012788803655444 / abs_deg: 3.012788803655444\n"
     ]
    }
   ],
   "source": [
    "file_path = 'AlphaPose/examples/results/alphapose_2.json'\n",
    "print(file_path)\n",
    "print()\n",
    "visual_alpha_result(file_path)"
   ]
  },
  {
   "cell_type": "code",
   "execution_count": 193,
   "metadata": {},
   "outputs": [
    {
     "name": "stdout",
     "output_type": "stream",
     "text": [
      "MotionBERT/examples/results/motion_2.npy\n",
      "\n",
      "motion data shape: (88, 17, 3)\n",
      "\n",
      "---------------거북목---------------\n",
      "rad: -0.7297895861905701 / abs rad: 0.7297895861905701\n",
      "deg: -41.81386322131849 / abs_deg: 41.81386322131849\n",
      "\n",
      "-------------골반 기울기-------------\n",
      "rad: -0.016737260108860383 / abs rad: 0.016737260108860383\n",
      "deg: -0.9589743648503728 / abs_deg: 0.9589743648503728\n",
      "\n",
      "-------------어깨 기울기-------------\n",
      "rad: -0.007276399871402013 / abs rad: 0.007276399871402013\n",
      "deg: -0.41690700268087033 / abs_deg: 0.41690700268087033 \n",
      "\n",
      "threshold: 17 , middle_data: (54, 17, 3)\n",
      "\n",
      "---------------mean turtle neck---------------\n",
      "rad: -1.2003004429395245 / abs rad: 1.2003004429395245\n",
      "deg: -68.77214952811805 / abs_deg: 68.77214952811805\n",
      "\n",
      "-------------mean hip-------------\n",
      "rad: -0.048773450684001615 / abs rad: 0.048773450684001615\n",
      "deg: -2.794512876482751 / abs_deg: 2.794512876482751\n",
      "\n",
      "-------------mean shoulder-------------\n",
      "rad: 0.020191567232093626 / abs rad: 0.020191567232093626\n",
      "deg: 1.1568915841536143 / abs_deg: 1.1568915841536143\n"
     ]
    }
   ],
   "source": [
    "file_path = 'MotionBERT/examples/results/motion_2.npy'\n",
    "print(file_path)\n",
    "print()\n",
    "visual_motion_result(file_path)"
   ]
  },
  {
   "cell_type": "code",
   "execution_count": 189,
   "metadata": {},
   "outputs": [],
   "source": [
    "def extract_frame(video_path, frame_number=0):\n",
    "    # 비디오 파일 열기\n",
    "    cap = cv2.VideoCapture(video_path)\n",
    "\n",
    "    # 파일이 열렸는지 확인\n",
    "    if not cap.isOpened():\n",
    "        print(\"Error: Could not open video.\")\n",
    "        return None\n",
    "\n",
    "    # 특정 프레임으로 이동\n",
    "    cap.set(cv2.CAP_PROP_POS_FRAMES, frame_number)\n",
    "\n",
    "    # 프레임 읽기\n",
    "    ret, frame = cap.read()\n",
    "    if not ret:\n",
    "        print(f\"Error: Could not read frame {frame_number}.\")\n",
    "        return None\n",
    "\n",
    "    # 비디오 파일 닫기\n",
    "    cap.release()\n",
    "\n",
    "    return frame"
   ]
  },
  {
   "cell_type": "code",
   "execution_count": 190,
   "metadata": {},
   "outputs": [
    {
     "name": "stdout",
     "output_type": "stream",
     "text": [
      "frame number: 0\n",
      "Frame extracted and saved as visualexample/0.jpg.\n",
      "Frame extracted and saved as visualexample/1.jpg.\n",
      "Frame extracted and saved as visualexample/2.jpg.\n",
      "Frame extracted and saved as visualexample/3.jpg.\n",
      "Frame extracted and saved as visualexample/4.jpg.\n",
      "Frame extracted and saved as visualexample/5.jpg.\n",
      "Frame extracted and saved as visualexample/6.jpg.\n",
      "Frame extracted and saved as visualexample/7.jpg.\n",
      "Frame extracted and saved as visualexample/8.jpg.\n",
      "Frame extracted and saved as visualexample/9.jpg.\n",
      "Frame extracted and saved as visualexample/10.jpg.\n",
      "Frame extracted and saved as visualexample/11.jpg.\n"
     ]
    }
   ],
   "source": [
    "origin_path = 'AlphaPose/examples/video/unnormal.mp4'\n",
    "alpha_path = 'AlphaPose/examples/results/AlphaPose_unnormal.mp4'\n",
    "motion_path = 'MotionBERT/examples/results/motionbert_unnormal.mp4'\n",
    "mesh_path = 'MotionBERT/examples/results/motionbert_mesh_unnormal.mp4'\n",
    "normal_path = 'AlphaPose/examples/results/AlphaPose_normal.mp4'\n",
    "trans_path = 'AlphaPose/examples/results/AlphaPose_trans.mp4'\n",
    "sample1_path = 'AlphaPose/examples/results/AlphaPose_sample1.mp4'\n",
    "sample2_path = 'AlphaPose/examples/results/AlphaPose_sample2.mp4'\n",
    "sample3_path = 'AlphaPose/examples/results/AlphaPose_sample3.mp4'\n",
    "sample4_path = 'AlphaPose/examples/results/AlphaPose_sample4.mp4'\n",
    "vi1_path = 'AlphaPose/examples/results/AlphaPose_1.mp4'\n",
    "vi2_path = 'AlphaPose/examples/results/AlphaPose_2.mp4'\n",
    "path_list = [origin_path, alpha_path, motion_path, mesh_path, normal_path, trans_path, sample1_path, sample2_path, sample3_path, sample4_path, vi1_path, vi2_path]\n",
    "\n",
    "frame_number = 0 # len(motion_data) // 2  # middle frame of video\n",
    "print(\"frame number:\", frame_number)\n",
    "\n",
    "for i in range(len(path_list)):\n",
    "    frame = extract_frame(path_list[i], frame_number)\n",
    "\n",
    "    if frame is not None:\n",
    "        # 프레임을 이미지 파일로 저장\n",
    "        cv2.imwrite(f'visualexample/{i}.jpg', frame)\n",
    "        print(f\"Frame extracted and saved as visualexample/{i}.jpg.\")"
   ]
  },
  {
   "cell_type": "code",
   "execution_count": 191,
   "metadata": {},
   "outputs": [],
   "source": [
    "def draw_keypoints_and_angle(image_path):\n",
    "    # 이미지를 읽음\n",
    "    image = cv2.imread(image_path)\n",
    "\n",
    "    # 어깨 각도 그리기\n",
    "    height, width, _ = image.shape\n",
    "    start_point_horizontal = (0, int(alpha_frame[19]))\n",
    "    end_point_horizontal = (width, int(alpha_frame[19]))\n",
    "    cv2.line(image, start_point_horizontal, end_point_horizontal, (0, 0, 255), 2)\n",
    "    cv2.line(image, (int(alpha_frame[18]), int(alpha_frame[19])), (int(alpha_frame[15]), int(alpha_frame[16])), (0, 0, 255), 2)\n",
    "    \n",
    "    angle_text = f\"degree: {abs(shoulder_rad*180)/math.pi:.2f}\"\n",
    "    text_position = (int(alpha_frame[18]) + 10, int(alpha_frame[19]) + 25)\n",
    "    cv2.putText(image, angle_text, text_position, cv2.FONT_HERSHEY_SIMPLEX, 1, (255, 255, 255), 2)\n",
    "\n",
    "    # 골반 각도 그리기\n",
    "    height, width, _ = image.shape\n",
    "    start_point_horizontal = (0, int(alpha_frame[37]))\n",
    "    end_point_horizontal = (width, int(alpha_frame[37]))\n",
    "    cv2.line(image, start_point_horizontal, end_point_horizontal, (0, 0, 255), 2)\n",
    "    cv2.line(image, (int(alpha_frame[36]), int(alpha_frame[37])), (int(alpha_frame[33]), int(alpha_frame[34])), (0, 0, 255), 2)\n",
    "    \n",
    "    angle_text = f\"degree: {abs(hip_rad*180)/math.pi:.2f}\"\n",
    "    text_position = (int(alpha_frame[36]) + 10, int(alpha_frame[37]) + 25)\n",
    "    cv2.putText(image, angle_text, text_position, cv2.FONT_HERSHEY_SIMPLEX, 1, (255, 255, 255), 2)\n",
    "\n",
    "    cv2.imwrite('visualexample/1.jpg', image)\n",
    "\n",
    "image_path = f'visualexample/1.jpg'\n",
    "alpha_frame = alpha_data[frame_number]['keypoints']\n",
    "\n",
    "\n",
    "draw_keypoints_and_angle(image_path)"
   ]
  },
  {
   "cell_type": "code",
   "execution_count": 192,
   "metadata": {},
   "outputs": [
    {
     "name": "stderr",
     "output_type": "stream",
     "text": [
      "[ WARN:0@98052.054] global loadsave.cpp:248 findDecoder imread_('visualexample/draw.jpg'): can't open/read file: check file path/integrity\n"
     ]
    },
    {
     "ename": "error",
     "evalue": "OpenCV(4.9.0) /io/opencv/modules/imgproc/src/resize.cpp:4152: error: (-215:Assertion failed) !ssize.empty() in function 'resize'\n",
     "output_type": "error",
     "traceback": [
      "\u001b[0;31m---------------------------------------------------------------------------\u001b[0m",
      "\u001b[0;31merror\u001b[0m                                     Traceback (most recent call last)",
      "\u001b[0;32m/tmp/ipykernel_13771/3608012189.py\u001b[0m in \u001b[0;36m<module>\u001b[0;34m\u001b[0m\n\u001b[1;32m     27\u001b[0m ]\n\u001b[1;32m     28\u001b[0m \u001b[0;34m\u001b[0m\u001b[0m\n\u001b[0;32m---> 29\u001b[0;31m \u001b[0mresult_image\u001b[0m \u001b[0;34m=\u001b[0m \u001b[0mresize_and_concatenate\u001b[0m\u001b[0;34m(\u001b[0m\u001b[0mimage_paths\u001b[0m\u001b[0;34m)\u001b[0m\u001b[0;34m\u001b[0m\u001b[0;34m\u001b[0m\u001b[0m\n\u001b[0m\u001b[1;32m     30\u001b[0m \u001b[0;34m\u001b[0m\u001b[0m\n\u001b[1;32m     31\u001b[0m \u001b[0;31m# 결과 이미지 저장 및 표시\u001b[0m\u001b[0;34m\u001b[0m\u001b[0;34m\u001b[0m\u001b[0;34m\u001b[0m\u001b[0m\n",
      "\u001b[0;32m/tmp/ipykernel_13771/3608012189.py\u001b[0m in \u001b[0;36mresize_and_concatenate\u001b[0;34m(images)\u001b[0m\n\u001b[1;32m     11\u001b[0m \u001b[0;34m\u001b[0m\u001b[0m\n\u001b[1;32m     12\u001b[0m         \u001b[0;31m# 이미지 리사이즈\u001b[0m\u001b[0;34m\u001b[0m\u001b[0;34m\u001b[0m\u001b[0;34m\u001b[0m\u001b[0m\n\u001b[0;32m---> 13\u001b[0;31m         \u001b[0mresized_image\u001b[0m \u001b[0;34m=\u001b[0m \u001b[0mcv2\u001b[0m\u001b[0;34m.\u001b[0m\u001b[0mresize\u001b[0m\u001b[0;34m(\u001b[0m\u001b[0mimage\u001b[0m\u001b[0;34m,\u001b[0m \u001b[0;34m(\u001b[0m\u001b[0mbase_width\u001b[0m\u001b[0;34m,\u001b[0m \u001b[0mbase_height\u001b[0m\u001b[0;34m)\u001b[0m\u001b[0;34m)\u001b[0m\u001b[0;34m\u001b[0m\u001b[0;34m\u001b[0m\u001b[0m\n\u001b[0m\u001b[1;32m     14\u001b[0m         \u001b[0mresized_images\u001b[0m\u001b[0;34m.\u001b[0m\u001b[0mappend\u001b[0m\u001b[0;34m(\u001b[0m\u001b[0mresized_image\u001b[0m\u001b[0;34m)\u001b[0m\u001b[0;34m\u001b[0m\u001b[0;34m\u001b[0m\u001b[0m\n\u001b[1;32m     15\u001b[0m \u001b[0;34m\u001b[0m\u001b[0m\n",
      "\u001b[0;31merror\u001b[0m: OpenCV(4.9.0) /io/opencv/modules/imgproc/src/resize.cpp:4152: error: (-215:Assertion failed) !ssize.empty() in function 'resize'\n"
     ]
    }
   ],
   "source": [
    "def resize_and_concatenate(images):\n",
    "    # 첫 번째 이미지의 크기를 기준으로 삼기\n",
    "    base_image = cv2.imread(images[0])\n",
    "    base_height, base_width = base_image.shape[:2]\n",
    "\n",
    "    resized_images = []\n",
    "    \n",
    "    for image_path in images:\n",
    "        # 이미지 읽기\n",
    "        image = cv2.imread(image_path)\n",
    "        \n",
    "        # 이미지 리사이즈\n",
    "        resized_image = cv2.resize(image, (base_width, base_height))\n",
    "        resized_images.append(resized_image)\n",
    "    \n",
    "    # 이미지들을 일렬로 연결\n",
    "    concatenated_image = np.hstack(resized_images)\n",
    "    \n",
    "    return concatenated_image\n",
    "\n",
    "# 사용 예제\n",
    "image_paths = [\n",
    "    'visualexample/0.jpg',\n",
    "    'visualexample/draw.jpg',\n",
    "    'visualexample/2.jpg',\n",
    "    'visualexample/3.jpg'\n",
    "]\n",
    "\n",
    "result_image = resize_and_concatenate(image_paths)\n",
    "\n",
    "# 결과 이미지 저장 및 표시\n",
    "output_path = 'visualexample/merge.jpg'\n",
    "cv2.imwrite(output_path, result_image)\n",
    "print(\"Done!\")"
   ]
  },
  {
   "cell_type": "code",
   "execution_count": null,
   "metadata": {},
   "outputs": [],
   "source": []
  },
  {
   "cell_type": "code",
   "execution_count": null,
   "metadata": {},
   "outputs": [],
   "source": []
  }
 ],
 "metadata": {
  "kernelspec": {
   "display_name": "sj",
   "language": "python",
   "name": "python3"
  },
  "language_info": {
   "codemirror_mode": {
    "name": "ipython",
    "version": 3
   },
   "file_extension": ".py",
   "mimetype": "text/x-python",
   "name": "python",
   "nbconvert_exporter": "python",
   "pygments_lexer": "ipython3",
   "version": "3.7.12"
  }
 },
 "nbformat": 4,
 "nbformat_minor": 2
}
